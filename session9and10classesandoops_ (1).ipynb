{
 "cells": [
  {
   "cell_type": "code",
   "execution_count": null,
   "metadata": {
    "collapsed": true
   },
   "outputs": [],
   "source": [
    "#An example of a class\n",
    "class Shape:\n",
    "    '''self is a reference to current instance of a class'''\n",
    "    class_var=\"Im a class\" #data member\n",
    "    def __init__(self,x,y):#run as soon as an object of a class is instantiated\n",
    "        self.x = x\n",
    "        self.y = y\n",
    "    description = \"This shape has not been described yet\"\n",
    "    author = \"Nobody has claimed to make this shape yet\"\n",
    "    def sample(self):#methods\n",
    "        instance_variable=\"in function\"#data member\n",
    "    def area(self):\n",
    "        return self.x * self.y\n",
    "    def perimeter(self):\n",
    "        return 2 * self.x + 2 * self.y\n",
    "    def describe(self,text):\n",
    "        self.description = text\n",
    "        print (self.description)\n",
    "    def authorName(self,text):\n",
    "        self.author = text\n",
    "    def scaleSize(self,scale):\n",
    "        self.x = self.x * scale\n",
    "        self.y = self.y * scale"
   ]
  },
  {
   "cell_type": "code",
   "execution_count": null,
   "metadata": {
    "collapsed": true
   },
   "outputs": [],
   "source": [
    "#Using a class by creating an instance object\n",
    "rectangle = Shape(100,45)\n",
    "#sample=Shape(2,34)"
   ]
  },
  {
   "cell_type": "code",
   "execution_count": null,
   "metadata": {
    "collapsed": true
   },
   "outputs": [],
   "source": [
    "                    #accessing attributes from outside an instance\n",
    "#finding the area of your rectangle:\n",
    "print (\"area of rectangle\",rectangle.area())#no need to include 'self' while calling a method\n",
    "\n",
    "#finding the perimeter of your rectangle:\n",
    "print (\"perimeter\",rectangle.perimeter())\n",
    "\n",
    "#describing the rectangle\n",
    "rectangle.describe(\"A wide rectangle, more than twice\\\n",
    " as wide as it is tall\")\n",
    "\n",
    "#making the rectangle 50% smaller\n",
    "rectangle.scaleSize(.5)\n",
    "\n",
    "#re-printing the new area of the rectangle\n",
    "print (\"area after scaling\",rectangle.area())\n",
    "\n",
    "print (rectangle.__dict__)\n",
    "print (rectangle.__doc__)\n",
    "print (Shape.__name__)\n",
    "print (rectangle.__module__)"
   ]
  },
  {
   "cell_type": "markdown",
   "metadata": {
    "collapsed": true
   },
   "source": [
    "# Your Turn\n",
    "Write a class for employee which gets the DA,HRA and Basic pay to calculate the salary,Create object for two employess to calculate the gross pay"
   ]
  },
  {
   "cell_type": "markdown",
   "metadata": {
    "collapsed": true
   },
   "source": [
    "# Class Descriptor"
   ]
  },
  {
   "cell_type": "code",
   "execution_count": null,
   "metadata": {
    "collapsed": true
   },
   "outputs": [],
   "source": [
    "class Publisher(object):\n",
    "    def __init__(self, name):\n",
    "        self.__name = name\n",
    "\n",
    "    def get_name(self):\n",
    "        print(\"getting name\")\n",
    "        return self.__name\n",
    "\n",
    "    def set_name(self, value):\n",
    "        print(\"setting name\")\n",
    "        self.__name = value\n",
    "\n",
    "    def delete_name(self):\n",
    "        print(\"deleting name\")\n",
    "        del self.__name\n",
    "\n",
    "    name = property(get_name, set_name, delete_name, \"Publisher name\")"
   ]
  },
  {
   "cell_type": "code",
   "execution_count": null,
   "metadata": {
    "collapsed": true
   },
   "outputs": [],
   "source": [
    " p = Publisher(\"Faber & Faber\")\n"
   ]
  },
  {
   "cell_type": "code",
   "execution_count": null,
   "metadata": {
    "collapsed": true
   },
   "outputs": [],
   "source": [
    " p.name\n"
   ]
  },
  {
   "cell_type": "code",
   "execution_count": null,
   "metadata": {
    "collapsed": true
   },
   "outputs": [],
   "source": [
    "\n",
    "p.name = \"Random House\"\n"
   ]
  },
  {
   "cell_type": "code",
   "execution_count": null,
   "metadata": {
    "collapsed": true
   },
   "outputs": [],
   "source": [
    "\n",
    "del p.name\n"
   ]
  },
  {
   "cell_type": "markdown",
   "metadata": {},
   "source": [
    "# Factory Method"
   ]
  },
  {
   "cell_type": "code",
   "execution_count": null,
   "metadata": {
    "collapsed": true,
    "scrolled": true
   },
   "outputs": [],
   "source": [
    "class Car():\n",
    "    @staticmethod\n",
    "    def factor(type):\n",
    "        if type == \"Racecar\": \n",
    "            return Racecar()\n",
    "        if type == \"Van\": \n",
    "            return Van()\n",
    "        assert 0, \"Bad car creation: \" + type\n",
    " \n",
    "        factory = staticmethod(factory)\n",
    " \n",
    "class Racecar(Car):\n",
    "    def drive(self): print(\"Racecar driving.\")\n",
    " \n",
    "class Van(Car):\n",
    "    def drive(self): print(\"Van driving.\")\n",
    " \n",
    "# Create object using factory.\n",
    "obj = Car.factor(\"Van\")\n",
    "obj.drive()"
   ]
  },
  {
   "cell_type": "markdown",
   "metadata": {},
   "source": [
    "# Class Instance"
   ]
  },
  {
   "cell_type": "code",
   "execution_count": null,
   "metadata": {
    "collapsed": true
   },
   "outputs": [],
   "source": [
    "class A:\n",
    "    a = \"I am a class attribute!\" \n",
    "    def fun(self):\n",
    "        self.b=\"instance variable\"\n"
   ]
  },
  {
   "cell_type": "code",
   "execution_count": null,
   "metadata": {
    "collapsed": true
   },
   "outputs": [],
   "source": [
    "x = A()\n",
    "y = A()\n",
    "x.a='I am a class attribute!'\n",
    "x.fun()"
   ]
  },
  {
   "cell_type": "code",
   "execution_count": null,
   "metadata": {
    "collapsed": true
   },
   "outputs": [],
   "source": [
    "y.a\n",
    "y.b"
   ]
  },
  {
   "cell_type": "code",
   "execution_count": null,
   "metadata": {
    "collapsed": true
   },
   "outputs": [],
   "source": [
    "\n",
    "A.a\n"
   ]
  },
  {
   "cell_type": "markdown",
   "metadata": {},
   "source": [
    "## your turn"
   ]
  },
  {
   "cell_type": "code",
   "execution_count": null,
   "metadata": {
    "collapsed": true
   },
   "outputs": [],
   "source": [
    "#Create two class PG and UG and get student details and display it \n",
    "#use two member functions get_details and display\n",
    "#use factory method and decide which class to call.  "
   ]
  },
  {
   "cell_type": "markdown",
   "metadata": {},
   "source": [
    "# Inheritance"
   ]
  },
  {
   "cell_type": "code",
   "execution_count": null,
   "metadata": {
    "collapsed": true
   },
   "outputs": [],
   "source": [
    "class Polygon:\n",
    "    def __init__(self, no_of_sides):\n",
    "        self.n = no_of_sides\n",
    "        self.sides = [0 for i in range(no_of_sides)]\n",
    "\n",
    "    def inputSides(self):\n",
    "        self.sides = [float(input(\"Enter side \"+str(i+1)+\" : \")) for i in range(self.n)]\n",
    "\n",
    "    def dispSides(self):\n",
    "        for i in range(self.n):\n",
    "            print(\"Side\",i+1,\"is\",self.sides[i])"
   ]
  },
  {
   "cell_type": "code",
   "execution_count": null,
   "metadata": {
    "collapsed": true
   },
   "outputs": [],
   "source": [
    "class Triangle(Polygon):\n",
    "    def __init__(self):\n",
    "        Polygon.__init__(self,3)\n",
    "\n",
    "    def findArea(self):\n",
    "        a, b, c = self.sides\n",
    "        # calculate the semi-perimeter\n",
    "        s = (a + b + c) / 2\n",
    "        area = (float)(s*(s-a)*(s-b)*(s-c)) ** 0.5\n",
    "        #area=(1/2)*\n",
    "        print('The area of the triangle is %0.2f' %area)"
   ]
  },
  {
   "cell_type": "code",
   "execution_count": null,
   "metadata": {
    "collapsed": true
   },
   "outputs": [],
   "source": [
    "t = Triangle()\n",
    "print (Triangle.__bases__)"
   ]
  },
  {
   "cell_type": "code",
   "execution_count": null,
   "metadata": {
    "collapsed": true
   },
   "outputs": [],
   "source": [
    " t.inputSides()"
   ]
  },
  {
   "cell_type": "code",
   "execution_count": null,
   "metadata": {
    "collapsed": true
   },
   "outputs": [],
   "source": [
    "t.dispSides()"
   ]
  },
  {
   "cell_type": "code",
   "execution_count": null,
   "metadata": {
    "collapsed": true
   },
   "outputs": [],
   "source": [
    "t.findArea()"
   ]
  },
  {
   "cell_type": "code",
   "execution_count": null,
   "metadata": {
    "collapsed": true
   },
   "outputs": [],
   "source": [
    "issubclass(Polygon,Triangle)"
   ]
  },
  {
   "cell_type": "code",
   "execution_count": null,
   "metadata": {
    "collapsed": true
   },
   "outputs": [],
   "source": [
    "issubclass(Triangle,Polygon)"
   ]
  },
  {
   "cell_type": "code",
   "execution_count": null,
   "metadata": {
    "collapsed": true
   },
   "outputs": [],
   "source": [
    "isinstance(t,Polygon)"
   ]
  },
  {
   "cell_type": "code",
   "execution_count": null,
   "metadata": {
    "collapsed": true
   },
   "outputs": [],
   "source": [
    "class Student:\n",
    "\n",
    "    studentCount = 0\n",
    "    \n",
    "    def __init__(self,name,age,dept):\n",
    "        self.name = name\n",
    "        self.age = age\n",
    "        self.dept = dept\n",
    "        self.__class__.studentCount +=1\n",
    "\n",
    "    def displayDetails(self):\n",
    "        print (\"Stud_count value\",self.__class__.studentCount)\n",
    "        print(\"\\nName of the student is :\",self.name)\n",
    "        print(\"\\nAge of the student is :\",self.age)\n",
    "        print(\"\\nDept of the student is :\",self.dept)\n",
    "\n",
    "class CsStudent(Student):\n",
    "    def __init__(self,name,age,dept,section):\n",
    "        Student.__init__(self,name,age,dept)\n",
    "        self.section = section\n",
    "\n",
    "    def displayDetails(self):\n",
    "        \n",
    "        print(\"Calling parent version...\\n\")\n",
    "        Student.displayDetails(self)\n",
    "        \n",
    "        print(\"The child version...\\n\")\n",
    "        print(\"\\nName of the CSE student is :\",self.name)\n",
    "        print(\"\\nAge of the CSE student is :\",self.age)\n",
    "        print(\"\\nDept of the CSE student is :\",self.dept)\n",
    "        print(\"\\nSecnion of the CSE student is :\",self.section)"
   ]
  },
  {
   "cell_type": "code",
   "execution_count": null,
   "metadata": {
    "collapsed": true
   },
   "outputs": [],
   "source": [
    "st1 = Student(\"Karthi\",18,\"IT\")\n",
    "st2 = Student(\"Ramani\",19,\"CSE\")\n",
    "st3 = Student(\"Vijula\",22,\"TCE\")\n",
    "st1.displayDetails()\n",
    "st2.displayDetails()\n",
    "st3.displayDetails()"
   ]
  },
  {
   "cell_type": "code",
   "execution_count": null,
   "metadata": {
    "collapsed": true
   },
   "outputs": [],
   "source": [
    "print(\"\\nThe total number of instances created so far for student is/are :\",Student.studentCount)\n",
    "print(\"\\n\",st1.__class__.studentCount)\n",
    "print(\"\\n\",st1.studentCount)"
   ]
  },
  {
   "cell_type": "code",
   "execution_count": null,
   "metadata": {
    "collapsed": true
   },
   "outputs": [],
   "source": [
    "cst1 = CsStudent(\"Sanmathi\",18,\"CSE\",\"K\")\n",
    "cst2 = CsStudent(\"Saindhavi\",19,\"CSE\",\"F\")\n",
    "cst3 = CsStudent(\"Pushpa\",22,\"CSE\", \"I\")\n"
   ]
  },
  {
   "cell_type": "code",
   "execution_count": null,
   "metadata": {
    "collapsed": true
   },
   "outputs": [],
   "source": [
    "cst1.displayDetails()\n",
    "cst2.displayDetails()\n",
    "cst3.displayDetails()"
   ]
  },
  {
   "cell_type": "code",
   "execution_count": null,
   "metadata": {
    "collapsed": true
   },
   "outputs": [],
   "source": [
    "print(\"\\nThe total number of instances created so far for CSE student is/are :\",Student.studentCount)\n",
    "print(\"\\n\",cst1.__class__.studentCount)\n",
    "print(\"\\n\",cst1.studentCount)\n",
    "print(isinstance(st1,CsStudent))"
   ]
  },
  {
   "cell_type": "code",
   "execution_count": null,
   "metadata": {
    "collapsed": true
   },
   "outputs": [],
   "source": [
    "\"\"\"This program demonstrates the operator overloading \"\"\"\n",
    "class Point:\n",
    "    def __init__(self,x,y):\n",
    "        self.x = x\n",
    "        self.y = y\n",
    "    def __add__(self,other):\n",
    "        \n",
    "        new_x = self.x + other.x\n",
    "        new_y = self.y + other.y\n",
    "        p=Point(new_x,new_y)\n",
    "        return (p)\n",
    "p1 = Point(3,4)\n",
    "p2 = Point(8,9)\n",
    "p3 =p1+p2\n",
    "print(p3.x)"
   ]
  },
  {
   "cell_type": "code",
   "execution_count": null,
   "metadata": {
    "collapsed": true
   },
   "outputs": [],
   "source": [
    "#refer chapter 29 for operator overloading in ref book 1\n",
    "class Indexer:\n",
    "    def __getitem__(self, index):\n",
    "        return index ** 2\n",
    "X = Indexer()\n",
    "X[2]  # X[i] calls X.__getitem__(i)"
   ]
  },
  {
   "cell_type": "code",
   "execution_count": null,
   "metadata": {
    "collapsed": true
   },
   "outputs": [],
   "source": [
    "class Indexer:\n",
    "    data = [5, 6, 7, 8, 9]\n",
    "    def __getitem__(self, index):  # Called for index or slice\n",
    "        print('getitem:', index)\n",
    "        return self.data[index]  # Perform index or slice\n",
    "X = Indexer()\n",
    "l=X[2:4]  # Slicing sends __getitem__ a slice object\n",
    "print(\"return value\",l)\n"
   ]
  },
  {
   "cell_type": "code",
   "execution_count": 1,
   "metadata": {},
   "outputs": [
    {
     "name": "stdout",
     "output_type": "stream",
     "text": [
      "Hello \n",
      "Hello Guido\n"
     ]
    }
   ],
   "source": [
    "class Human:\n",
    " \n",
    "    def sayHello(self, name=None):\n",
    " \n",
    "        if name :\n",
    "            print ('Hello ' + name)\n",
    "        else:\n",
    "            print ('Hello ')\n",
    " \n",
    "\n",
    "obj = Human()\n",
    " \n",
    "# Call the method\n",
    "obj.sayHello()\n",
    " \n",
    "# Call the method with a parameter\n",
    "obj.sayHello('Guido')"
   ]
  },
  {
   "cell_type": "code",
   "execution_count": null,
   "metadata": {
    "collapsed": true
   },
   "outputs": [],
   "source": [
    "#refer ppt and chapter 22 in reference book 1 "
   ]
  }
 ],
 "metadata": {
  "anaconda-cloud": {},
  "kernelspec": {
   "display_name": "Python 3",
   "language": "python",
   "name": "python3"
  },
  "language_info": {
   "codemirror_mode": {
    "name": "ipython",
    "version": 3
   },
   "file_extension": ".py",
   "mimetype": "text/x-python",
   "name": "python",
   "nbconvert_exporter": "python",
   "pygments_lexer": "ipython3",
   "version": "3.6.1"
  }
 },
 "nbformat": 4,
 "nbformat_minor": 1
}
