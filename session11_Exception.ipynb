{
 "cells": [
  {
   "cell_type": "markdown",
   "metadata": {
    "nbpresent": {
     "id": "fa10bdab-8d69-44ac-90ab-83a75f37c5ef"
    }
   },
   "source": [
    "# Try ...Except\n"
   ]
  },
  {
   "cell_type": "code",
   "execution_count": 1,
   "metadata": {
    "nbpresent": {
     "id": "3cb39810-e2ee-48fa-b213-bf388d31f84f"
    }
   },
   "outputs": [
    {
     "name": "stdout",
     "output_type": "stream",
     "text": [
      "Written content in the file successfully\n"
     ]
    }
   ],
   "source": [
    "try:\n",
    "   fh = open(\"testfile\", \"w\")\n",
    "   fh.write(\"This is my test file for exception handling!!\")\n",
    "except IOError:\n",
    "   print (\"Error: can\\'t find file or read data\")\n",
    "else:\n",
    "   print (\"Written content in the file successfully\")\n",
    "   fh.close()"
   ]
  },
  {
   "cell_type": "code",
   "execution_count": 2,
   "metadata": {
    "nbpresent": {
     "id": "39784603-f2d1-4183-bc19-61c36bd73cd3"
    }
   },
   "outputs": [
    {
     "name": "stdout",
     "output_type": "stream",
     "text": [
      "Error: can't find file or read data\n"
     ]
    }
   ],
   "source": [
    "try:\n",
    "   fh = open(\"testfil\", \"r\")\n",
    "   fh.write(\"This is my test file for exception handling!!\")\n",
    "except IOError:\n",
    "   print (\"Error: can\\'t find file or read data\")\n",
    "else:\n",
    "   print (\"Written content in the file successfully\")"
   ]
  },
  {
   "cell_type": "markdown",
   "metadata": {
    "nbpresent": {
     "id": "b3ee1395-ce32-446d-9148-db41daf2e889"
    }
   },
   "source": [
    "# Your Turn: Write  try catch block for Divide by zero error"
   ]
  },
  {
   "cell_type": "markdown",
   "metadata": {
    "nbpresent": {
     "id": "c5f65040-29f0-4111-8689-a7df886ff6ee"
    }
   },
   "source": [
    "# Try..Finally"
   ]
  },
  {
   "cell_type": "code",
   "execution_count": 3,
   "metadata": {
    "nbpresent": {
     "id": "d67055b9-68d1-4130-bcee-6f0d0d962a77"
    }
   },
   "outputs": [
    {
     "name": "stdout",
     "output_type": "stream",
     "text": [
      "Going to close the file\n"
     ]
    }
   ],
   "source": [
    "try:\n",
    "   fh = open(\"testfile\", \"w\")\n",
    "   try:\n",
    "      fh.write(\"This is my test file for exception handling!!\")\n",
    "   finally:\n",
    "      print (\"Going to close the file\")\n",
    "      fh.close()\n",
    "except IOError:\n",
    "   print (\"Error: can\\'t find file or read data\")\n"
   ]
  },
  {
   "cell_type": "code",
   "execution_count": 7,
   "metadata": {
    "nbpresent": {
     "id": "28f25a3a-9a08-4a5e-9870-5b3432be86d8"
    }
   },
   "outputs": [
    {
     "name": "stdout",
     "output_type": "stream",
     "text": [
      "Going to close the file\n",
      "Error: can't find file or read data\n"
     ]
    }
   ],
   "source": [
    "try:\n",
    "    fh = open(\"testfile\", \"r\")\n",
    "    try:\n",
    "        pass\n",
    "        fh.write(\"This is my test file for exception handling!!\")\n",
    "    finally:\n",
    "        print (\"Going to close the file\")\n",
    "        fh.close()\n",
    "except IOError:\n",
    "    print (\"Error: can\\'t find file or read data\")"
   ]
  },
  {
   "cell_type": "code",
   "execution_count": 4,
   "metadata": {},
   "outputs": [
    {
     "name": "stdout",
     "output_type": "stream",
     "text": [
      "incompactible types\n",
      "Reached finally\n",
      "End of program\n"
     ]
    }
   ],
   "source": [
    "l = [5,7,8]\n",
    "try:\n",
    "    l+\"hello\"\n",
    "except:\n",
    "    print (\"incompactible types\")\n",
    "finally:\n",
    "    print(\"Reached finally\")\n",
    "print(\"End of program\")"
   ]
  },
  {
   "cell_type": "markdown",
   "metadata": {
    "nbpresent": {
     "id": "f5eb8bc9-1eab-44c8-b9eb-d1dc1a3eb3b8"
    }
   },
   "source": [
    "# Your Turn: Change the file permission to read and observe the output"
   ]
  },
  {
   "cell_type": "markdown",
   "metadata": {
    "nbpresent": {
     "id": "fef4d7d8-4fdb-4a92-8ef8-5b0c56b3e011"
    }
   },
   "source": [
    "# Try ..except with Arguments"
   ]
  },
  {
   "cell_type": "code",
   "execution_count": 8,
   "metadata": {
    "collapsed": true,
    "nbpresent": {
     "id": "ed717c96-cc47-4812-a2aa-a46e9e53695c"
    }
   },
   "outputs": [],
   "source": [
    "def temp_convert(var):\n",
    "   try:\n",
    "      return int(var)\n",
    "   except ValueError as Argument:\n",
    "      print (\"The argument does not contain numbers\\n\", Argument)"
   ]
  },
  {
   "cell_type": "code",
   "execution_count": 9,
   "metadata": {
    "nbpresent": {
     "id": "f6483953-b44d-48ae-8428-49b169235741"
    }
   },
   "outputs": [
    {
     "name": "stdout",
     "output_type": "stream",
     "text": [
      "The argument does not contain numbers\n",
      " invalid literal for int() with base 10: 'abc'\n"
     ]
    }
   ],
   "source": [
    "temp_convert('abc')"
   ]
  },
  {
   "cell_type": "markdown",
   "metadata": {
    "nbpresent": {
     "id": "1c805e9d-65da-4e42-805b-3e02c824fd13"
    }
   },
   "source": [
    "# Raise exception"
   ]
  },
  {
   "cell_type": "code",
   "execution_count": 10,
   "metadata": {
    "nbpresent": {
     "id": "38d7a4b1-91c2-48c0-9c9b-204dc4ba5cd6"
    }
   },
   "outputs": [
    {
     "name": "stdout",
     "output_type": "stream",
     "text": [
      "Enter a positive integer: -2\n",
      "That is not a positive number!\n"
     ]
    },
    {
     "ename": "ValueError",
     "evalue": "That is not a positive number!",
     "output_type": "error",
     "traceback": [
      "\u001b[1;31m---------------------------------------------------------------------------\u001b[0m",
      "\u001b[1;31mValueError\u001b[0m                                Traceback (most recent call last)",
      "\u001b[1;32m<ipython-input-10-991fae1a583f>\u001b[0m in \u001b[0;36m<module>\u001b[1;34m()\u001b[0m\n\u001b[0;32m      2\u001b[0m      \u001b[0ma\u001b[0m \u001b[1;33m=\u001b[0m \u001b[0mint\u001b[0m\u001b[1;33m(\u001b[0m\u001b[0minput\u001b[0m\u001b[1;33m(\u001b[0m\u001b[1;34m\"Enter a positive integer: \"\u001b[0m\u001b[1;33m)\u001b[0m\u001b[1;33m)\u001b[0m\u001b[1;33m\u001b[0m\u001b[0m\n\u001b[0;32m      3\u001b[0m      \u001b[1;32mif\u001b[0m \u001b[0ma\u001b[0m \u001b[1;33m<=\u001b[0m \u001b[1;36m0\u001b[0m\u001b[1;33m:\u001b[0m\u001b[1;33m\u001b[0m\u001b[0m\n\u001b[1;32m----> 4\u001b[1;33m          \u001b[1;32mraise\u001b[0m \u001b[0mValueError\u001b[0m\u001b[1;33m(\u001b[0m\u001b[1;34m\"That is not a positive number!\"\u001b[0m\u001b[1;33m)\u001b[0m\u001b[1;33m\u001b[0m\u001b[0m\n\u001b[0m\u001b[0;32m      5\u001b[0m \u001b[1;32mexcept\u001b[0m \u001b[0mValueError\u001b[0m \u001b[1;32mas\u001b[0m \u001b[0mve\u001b[0m\u001b[1;33m:\u001b[0m\u001b[1;33m\u001b[0m\u001b[0m\n\u001b[0;32m      6\u001b[0m     \u001b[0mprint\u001b[0m\u001b[1;33m(\u001b[0m\u001b[0mve\u001b[0m\u001b[1;33m)\u001b[0m\u001b[1;33m\u001b[0m\u001b[0m\n",
      "\u001b[1;31mValueError\u001b[0m: That is not a positive number!"
     ]
    }
   ],
   "source": [
    "try:\n",
    "     a = int(input(\"Enter a positive integer: \"))\n",
    "     if a <= 0:\n",
    "         raise ValueError(\"That is not a positive number!\")\n",
    "except ValueError as ve:\n",
    "    print(ve)\n",
    "    raise"
   ]
  },
  {
   "cell_type": "code",
   "execution_count": 12,
   "metadata": {
    "nbpresent": {
     "id": "2fc6969e-340c-4b50-9dc8-561182ea6f3e"
    }
   },
   "outputs": [
    {
     "name": "stdout",
     "output_type": "stream",
     "text": [
      "--------------------------------\n",
      "EXCEPTION RAISED AND CAUGHT\n",
      "except run\n",
      "finally run\n",
      "after run\n",
      "--------------------------------\n",
      "NO EXCEPTION RAISED\n",
      "finally run\n",
      "after run\n",
      "--------------------------------\n",
      "NO EXCEPTION RAISED, WITH ELSE\n",
      "else run\n",
      "finally run\n",
      "after run\n",
      "--------------------------------\n",
      "EXCEPTION RAISED BUT NOT CAUGHT\n",
      "finally run\n"
     ]
    },
    {
     "ename": "ZeroDivisionError",
     "evalue": "division by zero",
     "output_type": "error",
     "traceback": [
      "\u001b[1;31m---------------------------------------------------------------------------\u001b[0m",
      "\u001b[1;31mZeroDivisionError\u001b[0m                         Traceback (most recent call last)",
      "\u001b[1;32m<ipython-input-12-e6cf8497371e>\u001b[0m in \u001b[0;36m<module>\u001b[1;34m()\u001b[0m\n\u001b[0;32m     31\u001b[0m \u001b[0mprint\u001b[0m\u001b[1;33m(\u001b[0m\u001b[0msep\u001b[0m \u001b[1;33m+\u001b[0m \u001b[1;34m'EXCEPTION RAISED BUT NOT CAUGHT'\u001b[0m\u001b[1;33m)\u001b[0m\u001b[1;33m\u001b[0m\u001b[0m\n\u001b[0;32m     32\u001b[0m \u001b[1;32mtry\u001b[0m\u001b[1;33m:\u001b[0m\u001b[1;33m\u001b[0m\u001b[0m\n\u001b[1;32m---> 33\u001b[1;33m     \u001b[0mx\u001b[0m \u001b[1;33m=\u001b[0m \u001b[1;36m1\u001b[0m \u001b[1;33m/\u001b[0m \u001b[1;36m0\u001b[0m\u001b[1;33m\u001b[0m\u001b[0m\n\u001b[0m\u001b[0;32m     34\u001b[0m \u001b[1;32mexcept\u001b[0m \u001b[0mIndexError\u001b[0m\u001b[1;33m:\u001b[0m\u001b[1;33m\u001b[0m\u001b[0m\n\u001b[0;32m     35\u001b[0m     \u001b[0mprint\u001b[0m\u001b[1;33m(\u001b[0m\u001b[1;34m'except run'\u001b[0m\u001b[1;33m)\u001b[0m\u001b[1;33m\u001b[0m\u001b[0m\n",
      "\u001b[1;31mZeroDivisionError\u001b[0m: division by zero"
     ]
    }
   ],
   "source": [
    "sep = '-' * 32 + '\\n'\n",
    "print(sep + 'EXCEPTION RAISED AND CAUGHT')\n",
    "try:\n",
    "    x = 'spam'[99]\n",
    "except IndexError:\n",
    "    print('except run')\n",
    "finally:\n",
    "    print('finally run')\n",
    "print('after run')\n",
    "\n",
    "print(sep + 'NO EXCEPTION RAISED')\n",
    "try:\n",
    "    x = 'spam'[3]\n",
    "except IndexError:\n",
    "    print('except run')\n",
    "finally:\n",
    "    print('finally run')\n",
    "print('after run')\n",
    "\n",
    "print(sep + 'NO EXCEPTION RAISED, WITH ELSE')\n",
    "try:\n",
    "    x = 'spam'[3]\n",
    "except IndexError:\n",
    "    print('except run')\n",
    "else:\n",
    "    print('else run')\n",
    "finally:\n",
    "    print('finally run')\n",
    "print('after run')\n",
    "\n",
    "print(sep + 'EXCEPTION RAISED BUT NOT CAUGHT')\n",
    "try:\n",
    "    x = 1 / 0\n",
    "except IndexError:\n",
    "    print('except run')\n",
    "finally:\n",
    "    print('finally run')\n",
    "print('after run')\n",
    "    \n"
   ]
  },
  {
   "cell_type": "code",
   "execution_count": 13,
   "metadata": {},
   "outputs": [
    {
     "name": "stdout",
     "output_type": "stream",
     "text": [
      "except run division by zero\n",
      "finally run\n",
      "after run\n"
     ]
    }
   ],
   "source": [
    "try:\n",
    "    x = 1 / 0\n",
    "except Exception as v:\n",
    "    print('except run',v)\n",
    "finally:\n",
    "    print('finally run')\n",
    "print('after run')"
   ]
  },
  {
   "cell_type": "markdown",
   "metadata": {},
   "source": [
    "## user defined exception"
   ]
  },
  {
   "cell_type": "code",
   "execution_count": 26,
   "metadata": {},
   "outputs": [
    {
     "name": "stdout",
     "output_type": "stream",
     "text": [
      "Enter a number: 23\n",
      "This value is too large, try again!\n",
      "Enter a number: 21\n",
      "This value is too large, try again!\n",
      "Enter a number: 20\n",
      "This value is too large, try again!\n",
      "Enter a number: 10\n",
      "Congratulations! You guessed it correctly.\n"
     ]
    }
   ],
   "source": [
    "# define Python user-defined exceptions\n",
    "class Error(Exception):\n",
    "   \"\"\"Base class for other exceptions\"\"\"\n",
    "   pass\n",
    "\n",
    "class ValueTooSmallError(Error):\n",
    "   \"\"\"Raised when the input value is too small\"\"\"\n",
    "   pass\n",
    "\n",
    "class ValueTooLargeError(Error):\n",
    "   \"\"\"Raised when the input value is too large\"\"\"\n",
    "   pass\n",
    "\n",
    "\n",
    "# user guesses a number until he/she gets it right\n",
    "\n",
    "# you need to guess this number\n",
    "number = 10\n",
    "\n",
    "while True:\n",
    "   try:\n",
    "       i_num = int(input(\"Enter a number: \"))\n",
    "       if i_num < number:\n",
    "           raise ValueTooSmallError\n",
    "       elif i_num > number:\n",
    "           raise ValueTooLargeError\n",
    "       break\n",
    "   except ValueTooSmallError:\n",
    "       print(\"This value is too small, try again!\")\n",
    "       \n",
    "   except ValueTooLargeError:\n",
    "       print(\"This value is too large, try again!\")\n",
    "       \n",
    "\n",
    "print(\"Congratulations! You guessed it correctly.\")\n",
    "    "
   ]
  },
  {
   "cell_type": "code",
   "execution_count": null,
   "metadata": {
    "collapsed": true
   },
   "outputs": [],
   "source": [
    "# define Python user-defined exceptions\n",
    "class Error(Exception):\n",
    "   \"\"\"Base class for other exceptions\"\"\"\n",
    "   pass\n",
    "\n",
    "class ValueTooSmallError(Error):\n",
    "   \"\"\"Raised when the input value is too small\"\"\"\n",
    "   pass\n",
    "\n",
    "class ValueTooLargeError(Error):\n",
    "   \"\"\"Raised when the input value is too large\"\"\"\n",
    "   pass\n",
    "\n",
    "\n",
    "# user guesses a number until he/she gets it right\n",
    "\n",
    "# you need to guess this number\n",
    "number = 10\n",
    "class sam:\n",
    "    def fun(self):\n",
    "        while True:\n",
    "           try:\n",
    "               i_num = int(input(\"Enter a number: \"))\n",
    "               if i_num < number:\n",
    "                   raise ValueTooSmallError\n",
    "               elif i_num > number:\n",
    "                   raise ValueTooLargeError\n",
    "               break\n",
    "           except ValueTooSmallError:\n",
    "               print(\"This value is too small, try again!\")\n",
    "\n",
    "           except ValueTooLargeError:\n",
    "               print(\"This value is too large, try again!\")\n",
    "\n",
    "\n",
    "\n",
    "        print(\"Congratulations! You guessed it correctly.\")\n",
    "\n",
    "s=sam()\n",
    "s.fun()"
   ]
  },
  {
   "cell_type": "code",
   "execution_count": null,
   "metadata": {
    "collapsed": true
   },
   "outputs": [],
   "source": [
    "#refer chapter 32 , 33 in reference 1(learning python) for more info"
   ]
  }
 ],
 "metadata": {
  "anaconda-cloud": {},
  "kernelspec": {
   "display_name": "Python 3",
   "language": "python",
   "name": "python3"
  },
  "language_info": {
   "codemirror_mode": {
    "name": "ipython",
    "version": 3
   },
   "file_extension": ".py",
   "mimetype": "text/x-python",
   "name": "python",
   "nbconvert_exporter": "python",
   "pygments_lexer": "ipython3",
   "version": "3.6.1"
  },
  "nbpresent": {
   "slides": {
    "0d93b697-f3b8-4dc8-b10e-650c48ccd1f1": {
     "id": "0d93b697-f3b8-4dc8-b10e-650c48ccd1f1",
     "prev": "159bb6be-e7dd-4909-b13d-0ae9aee0e168",
     "regions": {
      "32fa0a9a-97ec-4d7e-8f80-c8b9ad20f724": {
       "attrs": {
        "height": 0.8,
        "width": 0.8,
        "x": 0.1,
        "y": 0.1
       },
       "content": {
        "cell": "3cb39810-e2ee-48fa-b213-bf388d31f84f",
        "part": "whole"
       },
       "id": "32fa0a9a-97ec-4d7e-8f80-c8b9ad20f724"
      }
     }
    },
    "159bb6be-e7dd-4909-b13d-0ae9aee0e168": {
     "id": "159bb6be-e7dd-4909-b13d-0ae9aee0e168",
     "prev": null,
     "regions": {
      "4733ecca-4ae8-473b-8a1c-2fb98d910182": {
       "attrs": {
        "height": 0.8,
        "width": 0.8,
        "x": 0.1,
        "y": 0.1
       },
       "content": {
        "cell": "fa10bdab-8d69-44ac-90ab-83a75f37c5ef",
        "part": "whole"
       },
       "id": "4733ecca-4ae8-473b-8a1c-2fb98d910182"
      }
     }
    },
    "32b2075e-9f3d-495c-abf3-b1330b1a57c3": {
     "id": "32b2075e-9f3d-495c-abf3-b1330b1a57c3",
     "prev": "da031757-0cae-4274-ac2e-5f061825f3c0",
     "regions": {
      "e809a8f0-fac0-4262-8472-aa31b12e98cf": {
       "attrs": {
        "height": 0.8,
        "width": 0.8,
        "x": 0.1,
        "y": 0.1
       },
       "content": {
        "cell": "1c805e9d-65da-4e42-805b-3e02c824fd13",
        "part": "whole"
       },
       "id": "e809a8f0-fac0-4262-8472-aa31b12e98cf"
      }
     }
    },
    "3df916af-691a-40db-814d-ab85f0f65185": {
     "id": "3df916af-691a-40db-814d-ab85f0f65185",
     "prev": "0d93b697-f3b8-4dc8-b10e-650c48ccd1f1",
     "regions": {
      "188fdbe2-93fb-4102-846f-979888aac79b": {
       "attrs": {
        "height": 0.8,
        "width": 0.8,
        "x": 0.1,
        "y": 0.1
       },
       "content": {
        "cell": "39784603-f2d1-4183-bc19-61c36bd73cd3",
        "part": "whole"
       },
       "id": "188fdbe2-93fb-4102-846f-979888aac79b"
      }
     }
    },
    "8e9e7651-0a7f-4dfb-862d-b42ec27769f1": {
     "id": "8e9e7651-0a7f-4dfb-862d-b42ec27769f1",
     "prev": "f387348a-eb06-405a-849f-7c4beb8eada9",
     "regions": {
      "46954f92-11c2-4dd5-bb02-2d5855c6ada9": {
       "attrs": {
        "height": 0.8,
        "width": 0.8,
        "x": 0.1,
        "y": 0.1
       },
       "content": {
        "cell": "d67055b9-68d1-4130-bcee-6f0d0d962a77",
        "part": "whole"
       },
       "id": "46954f92-11c2-4dd5-bb02-2d5855c6ada9"
      }
     }
    },
    "94591ce9-7e99-4b13-9d07-4ebd0d6cf0cf": {
     "id": "94591ce9-7e99-4b13-9d07-4ebd0d6cf0cf",
     "prev": "fb05d51b-7acb-44d3-9eff-812d4ba53a90",
     "regions": {
      "01163a6f-a402-4931-839b-c2c8ee7788b1": {
       "attrs": {
        "height": 0.8,
        "width": 0.8,
        "x": 0.1,
        "y": 0.1
       },
       "content": {
        "cell": "f5eb8bc9-1eab-44c8-b9eb-d1dc1a3eb3b8",
        "part": "whole"
       },
       "id": "01163a6f-a402-4931-839b-c2c8ee7788b1"
      }
     }
    },
    "9b38ed6c-d680-4dec-a3f3-7fd071ab810b": {
     "id": "9b38ed6c-d680-4dec-a3f3-7fd071ab810b",
     "prev": "defb6d05-bf24-42f7-ac0e-36f26f593be9",
     "regions": {
      "f01025f8-bc1e-4a15-90b0-cd78244f0f3d": {
       "attrs": {
        "height": 0.8,
        "width": 0.8,
        "x": 0.1,
        "y": 0.1
       },
       "content": {
        "cell": "2fc6969e-340c-4b50-9dc8-561182ea6f3e",
        "part": "whole"
       },
       "id": "f01025f8-bc1e-4a15-90b0-cd78244f0f3d"
      }
     }
    },
    "be4af899-3023-40aa-8f04-852171023818": {
     "id": "be4af899-3023-40aa-8f04-852171023818",
     "prev": "94591ce9-7e99-4b13-9d07-4ebd0d6cf0cf",
     "regions": {
      "a8e0aa2c-6d99-43c3-9137-b6be11e915f9": {
       "attrs": {
        "height": 0.8,
        "width": 0.8,
        "x": 0.1,
        "y": 0.1
       },
       "content": {
        "cell": "fef4d7d8-4fdb-4a92-8ef8-5b0c56b3e011",
        "part": "whole"
       },
       "id": "a8e0aa2c-6d99-43c3-9137-b6be11e915f9"
      }
     }
    },
    "cd7ed21e-23ce-4843-aa6e-03050ab3ccb6": {
     "id": "cd7ed21e-23ce-4843-aa6e-03050ab3ccb6",
     "prev": "be4af899-3023-40aa-8f04-852171023818",
     "regions": {
      "08c197dd-c730-4b1d-ae41-21b82577620c": {
       "attrs": {
        "height": 0.8,
        "width": 0.8,
        "x": 0.1,
        "y": 0.1
       },
       "content": {
        "cell": "ed717c96-cc47-4812-a2aa-a46e9e53695c",
        "part": "whole"
       },
       "id": "08c197dd-c730-4b1d-ae41-21b82577620c"
      }
     }
    },
    "da031757-0cae-4274-ac2e-5f061825f3c0": {
     "id": "da031757-0cae-4274-ac2e-5f061825f3c0",
     "prev": "cd7ed21e-23ce-4843-aa6e-03050ab3ccb6",
     "regions": {
      "9265283a-2e02-4644-a4db-ccb6d5e4cba8": {
       "attrs": {
        "height": 0.8,
        "width": 0.8,
        "x": 0.1,
        "y": 0.1
       },
       "content": {
        "cell": "f6483953-b44d-48ae-8428-49b169235741",
        "part": "whole"
       },
       "id": "9265283a-2e02-4644-a4db-ccb6d5e4cba8"
      }
     }
    },
    "defb6d05-bf24-42f7-ac0e-36f26f593be9": {
     "id": "defb6d05-bf24-42f7-ac0e-36f26f593be9",
     "prev": "32b2075e-9f3d-495c-abf3-b1330b1a57c3",
     "regions": {
      "78dc5632-dcc0-49fd-b437-02483a145066": {
       "attrs": {
        "height": 0.8,
        "width": 0.8,
        "x": 0.1,
        "y": 0.1
       },
       "content": {
        "cell": "38d7a4b1-91c2-48c0-9c9b-204dc4ba5cd6",
        "part": "whole"
       },
       "id": "78dc5632-dcc0-49fd-b437-02483a145066"
      }
     }
    },
    "f387348a-eb06-405a-849f-7c4beb8eada9": {
     "id": "f387348a-eb06-405a-849f-7c4beb8eada9",
     "prev": "fb6d6871-7562-4de9-b6b1-763b539ace3d",
     "regions": {
      "08efe821-62a4-4e3a-9e9e-3f3cfb7ae5e5": {
       "attrs": {
        "height": 0.8,
        "width": 0.8,
        "x": 0.1,
        "y": 0.1
       },
       "content": {
        "cell": "c5f65040-29f0-4111-8689-a7df886ff6ee",
        "part": "whole"
       },
       "id": "08efe821-62a4-4e3a-9e9e-3f3cfb7ae5e5"
      }
     }
    },
    "fb05d51b-7acb-44d3-9eff-812d4ba53a90": {
     "id": "fb05d51b-7acb-44d3-9eff-812d4ba53a90",
     "prev": "8e9e7651-0a7f-4dfb-862d-b42ec27769f1",
     "regions": {
      "3aea87a2-863c-4682-9eeb-6bfe64868f45": {
       "attrs": {
        "height": 0.8,
        "width": 0.8,
        "x": 0.1,
        "y": 0.1
       },
       "content": {
        "cell": "28f25a3a-9a08-4a5e-9870-5b3432be86d8",
        "part": "whole"
       },
       "id": "3aea87a2-863c-4682-9eeb-6bfe64868f45"
      }
     }
    },
    "fb6d6871-7562-4de9-b6b1-763b539ace3d": {
     "id": "fb6d6871-7562-4de9-b6b1-763b539ace3d",
     "prev": "3df916af-691a-40db-814d-ab85f0f65185",
     "regions": {
      "55ac99dc-98e9-4430-bd03-15b9711ce6e9": {
       "attrs": {
        "height": 0.8,
        "width": 0.8,
        "x": 0.1,
        "y": 0.1
       },
       "content": {
        "cell": "b3ee1395-ce32-446d-9148-db41daf2e889",
        "part": "whole"
       },
       "id": "55ac99dc-98e9-4430-bd03-15b9711ce6e9"
      }
     }
    }
   },
   "themes": {}
  }
 },
 "nbformat": 4,
 "nbformat_minor": 1
}
