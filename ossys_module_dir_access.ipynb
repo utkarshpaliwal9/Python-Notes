{
 "cells": [
  {
   "cell_type": "code",
   "execution_count": null,
   "metadata": {
    "collapsed": true
   },
   "outputs": [],
   "source": [
    "import os"
   ]
  },
  {
   "cell_type": "code",
   "execution_count": null,
   "metadata": {
    "collapsed": true
   },
   "outputs": [],
   "source": [
    "'''get a  path from user , check whether the path exists or not if \n",
    "exists list all the files from that path'''"
   ]
  },
  {
   "cell_type": "code",
   "execution_count": null,
   "metadata": {
    "collapsed": true
   },
   "outputs": [],
   "source": [
    "'''get string from the user (it may be a file name or directory name\n",
    "in the current directory), \n",
    "check and tell whther it is a file or directory'''"
   ]
  },
  {
   "cell_type": "code",
   "execution_count": null,
   "metadata": {
    "collapsed": true
   },
   "outputs": [],
   "source": [
    "'''get a file name from user and check whether any file exists \n",
    "in your system in that name. Display the content of all the file\n",
    "in that name'''"
   ]
  },
  {
   "cell_type": "code",
   "execution_count": null,
   "metadata": {
    "collapsed": true
   },
   "outputs": [],
   "source": [
    "'''get a directory and file name from user , create a new directory \n",
    "in that name in current path and \n",
    "create a file in the new directory'''\n"
   ]
  },
  {
   "cell_type": "code",
   "execution_count": null,
   "metadata": {
    "collapsed": true
   },
   "outputs": [],
   "source": [
    "'''get a path from the user check whether the path exists or not . if \n",
    "exists then display all the file and folders which starts with 'p' \n",
    "and display all files with extention '.py'  '''"
   ]
  },
  {
   "cell_type": "code",
   "execution_count": null,
   "metadata": {
    "collapsed": true
   },
   "outputs": [],
   "source": [
    "if os.access(\"myfile\", os.R_OK):\n",
    "    with open(\"myfile\") as fp:\n",
    "        print(fp.read())\n",
    "print(\"some default data\")"
   ]
  },
  {
   "cell_type": "code",
   "execution_count": null,
   "metadata": {
    "collapsed": true
   },
   "outputs": [],
   "source": [
    "'''\n",
    "os.F_OK\n",
    "\n",
    "    Value to pass as the mode parameter of access() to test the existence of path.\n",
    "\n",
    "os.R_OK\n",
    "\n",
    "    Value to include in the mode parameter of access() to test the readability of path.\n",
    "\n",
    "os.W_OK\n",
    "\n",
    "    Value to include in the mode parameter of access() to test the writability of path.\n",
    "\n",
    "os.X_OK\n",
    "\n",
    "    Value to include in the mode parameter of access() to determine if path can be executed.\n",
    "'''"
   ]
  },
  {
   "cell_type": "code",
   "execution_count": 2,
   "metadata": {
    "collapsed": true
   },
   "outputs": [],
   "source": [
    "#os.walk\n",
    "import os"
   ]
  },
  {
   "cell_type": "code",
   "execution_count": 3,
   "metadata": {
    "scrolled": false
   },
   "outputs": [
    {
     "name": "stdout",
     "output_type": "stream",
     "text": [
      "[G:\\2017-18\\odd\\python\\file2access]\n",
      "G:\\2017-18\\odd\\python\\file2access\\file.txt\n",
      "G:\\2017-18\\odd\\python\\file2access\\LETTERTO PARENT.pdf\n",
      "[G:\\2017-18\\odd\\python\\file2access\\sub]\n",
      "G:\\2017-18\\odd\\python\\file2access\\sub\\file.txt\n",
      "G:\\2017-18\\odd\\python\\file2access\\sub\\file1.txt\n",
      "[G:\\2017-18\\odd\\python\\file2access\\sub2]\n"
     ]
    }
   ],
   "source": [
    "for root, dirs, files in os.walk('G:\\\\2017-18\\\\odd\\\\python\\\\file2access'):\n",
    "    print('[' + root + ']')\n",
    "    for fname in files:\n",
    "        print(os.path.join(root, fname))"
   ]
  },
  {
   "cell_type": "code",
   "execution_count": 12,
   "metadata": {},
   "outputs": [
    {
     "data": {
      "text/plain": [
       "['new.txt']"
      ]
     },
     "execution_count": 12,
     "metadata": {},
     "output_type": "execute_result"
    }
   ],
   "source": [
    "import glob\n",
    "glob.glob('n*.txt')"
   ]
  },
  {
   "cell_type": "code",
   "execution_count": 15,
   "metadata": {},
   "outputs": [],
   "source": [
    "os.mkdir('or')"
   ]
  },
  {
   "cell_type": "code",
   "execution_count": 18,
   "metadata": {
    "collapsed": true
   },
   "outputs": [],
   "source": [
    "#os.listdir('.')\n",
    "os.chdir('C:\\\\Users\\\\monica\\\\Anaconda3')"
   ]
  },
  {
   "cell_type": "code",
   "execution_count": 19,
   "metadata": {},
   "outputs": [
    {
     "data": {
      "text/plain": [
       "'C:\\\\Users\\\\monica\\\\Anaconda3'"
      ]
     },
     "execution_count": 19,
     "metadata": {},
     "output_type": "execute_result"
    }
   ],
   "source": [
    "os.getcwd()"
   ]
  },
  {
   "cell_type": "code",
   "execution_count": null,
   "metadata": {
    "collapsed": true
   },
   "outputs": [],
   "source": [
    "os.chdir('C:\\\\Users\\\\monica\\\\Anaconda3')"
   ]
  },
  {
   "cell_type": "code",
   "execution_count": 11,
   "metadata": {},
   "outputs": [
    {
     "name": "stdout",
     "output_type": "stream",
     "text": [
      "enter the directory nameG:\\2017-18\\odd\\python\\file2access\n",
      "enter the file namefile.txt\n",
      "[G:\\2017-18\\odd\\python\\file2access]\n",
      "hello\n",
      "[G:\\2017-18\\odd\\python\\file2access\\sub]\n",
      "\n",
      "[G:\\2017-18\\odd\\python\\file2access\\sub2]\n"
     ]
    }
   ],
   "source": [
    "import os\n",
    "direc=input('enter the directory name')\n",
    "file=input('enter the file name')\n",
    "for root, dirs, files in os.walk(direc):\n",
    "    print('[' + root + ']')\n",
    "    if file in files:\n",
    "        print(open(os.path.join(root, file)).read())\n",
    "    break"
   ]
  },
  {
   "cell_type": "code",
   "execution_count": 10,
   "metadata": {},
   "outputs": [
    {
     "ename": "FileNotFoundError",
     "evalue": "[Errno 2] No such file or directory: 'G:\\\\2017-18\\\\odd\\\\python\\\\file2access\\\\file.docx'",
     "output_type": "error",
     "traceback": [
      "\u001b[1;31m---------------------------------------------------------------------------\u001b[0m",
      "\u001b[1;31mFileNotFoundError\u001b[0m                         Traceback (most recent call last)",
      "\u001b[1;32m<ipython-input-10-796b85246a5c>\u001b[0m in \u001b[0;36m<module>\u001b[1;34m()\u001b[0m\n\u001b[0;32m      1\u001b[0m \u001b[1;32mif\u001b[0m \u001b[0mfile\u001b[0m \u001b[1;32min\u001b[0m \u001b[0mfiles\u001b[0m\u001b[1;33m:\u001b[0m\u001b[1;33m\u001b[0m\u001b[0m\n\u001b[1;32m----> 2\u001b[1;33m         \u001b[0mprint\u001b[0m\u001b[1;33m(\u001b[0m\u001b[0mopen\u001b[0m\u001b[1;33m(\u001b[0m\u001b[0mos\u001b[0m\u001b[1;33m.\u001b[0m\u001b[0mpath\u001b[0m\u001b[1;33m.\u001b[0m\u001b[0mjoin\u001b[0m\u001b[1;33m(\u001b[0m\u001b[0mroot\u001b[0m\u001b[1;33m,\u001b[0m \u001b[0mfile\u001b[0m\u001b[1;33m)\u001b[0m\u001b[1;33m,\u001b[0m\u001b[1;34m'r'\u001b[0m\u001b[1;33m)\u001b[0m\u001b[1;33m.\u001b[0m\u001b[0mread\u001b[0m\u001b[1;33m(\u001b[0m\u001b[1;33m)\u001b[0m\u001b[1;33m)\u001b[0m\u001b[1;33m\u001b[0m\u001b[0m\n\u001b[0m",
      "\u001b[1;31mFileNotFoundError\u001b[0m: [Errno 2] No such file or directory: 'G:\\\\2017-18\\\\odd\\\\python\\\\file2access\\\\file.docx'"
     ]
    }
   ],
   "source": [
    "if file in files:\n",
    "        print(open(os.path.join(root, file),'r').read())"
   ]
  },
  {
   "cell_type": "code",
   "execution_count": 7,
   "metadata": {},
   "outputs": [
    {
     "name": "stdout",
     "output_type": "stream",
     "text": [
      "G:\\\\2017-18\\\\odd\\\\python\\\\file2access\\file.docx\n"
     ]
    }
   ],
   "source": [
    "print(os.path.join(root, file))"
   ]
  },
  {
   "cell_type": "code",
   "execution_count": null,
   "metadata": {
    "collapsed": true
   },
   "outputs": [],
   "source": []
  }
 ],
 "metadata": {
  "kernelspec": {
   "display_name": "Python 3",
   "language": "python",
   "name": "python3"
  },
  "language_info": {
   "codemirror_mode": {
    "name": "ipython",
    "version": 3
   },
   "file_extension": ".py",
   "mimetype": "text/x-python",
   "name": "python",
   "nbconvert_exporter": "python",
   "pygments_lexer": "ipython3",
   "version": "3.6.1"
  }
 },
 "nbformat": 4,
 "nbformat_minor": 2
}
