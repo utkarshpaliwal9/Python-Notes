{
 "cells": [
  {
   "cell_type": "markdown",
   "metadata": {},
   "source": [
    "# Regular Expression"
   ]
  },
  {
   "cell_type": "code",
   "execution_count": null,
   "metadata": {
    "collapsed": true
   },
   "outputs": [],
   "source": [
    "import re\n"
   ]
  },
  {
   "cell_type": "code",
   "execution_count": null,
   "metadata": {
    "collapsed": true
   },
   "outputs": [],
   "source": [
    "text1 = 'Hello spam... World'\n",
    "text2 = 'Hello spam... other'"
   ]
  },
  {
   "cell_type": "code",
   "execution_count": null,
   "metadata": {},
   "outputs": [],
   "source": [
    "matchobj = re.match('Hello(.*)World', text2)#.*any char zero or more time\n",
    "print(matchobj)\n"
   ]
  },
  {
   "cell_type": "code",
   "execution_count": null,
   "metadata": {},
   "outputs": [],
   "source": [
    "matchobj = re.match('Hello(.*)World', text1)\n",
    "print(matchobj)\n",
    "matchobj.group(1)\n"
   ]
  },
  {
   "cell_type": "code",
   "execution_count": null,
   "metadata": {},
   "outputs": [],
   "source": [
    "pattobj = re.compile('Hello(.*)World')#Compile a regular expression pattern into a regular expression                                     \n",
    "matchobj = pattobj.match(text1)       ## object, which can be used for matching \n",
    "matchobj.group(1)                     #using its match() and search() methods\n"
   ]
  },
  {
   "cell_type": "code",
   "execution_count": null,
   "metadata": {},
   "outputs": [],
   "source": [
    "patt = '[ \\t]*Hello[ \\t]+(.*)[Ww]orld'\n",
    "line = 'Hello spamworld'\n",
    "mobj = re.match(patt, line)\n",
    "#print mobj\n",
    "mobj.group(1)\n"
   ]
  },
  {
   "cell_type": "code",
   "execution_count": null,
   "metadata": {},
   "outputs": [],
   "source": [
    "patt = b'[ \\t]*Hello[ \\t]+(.*)[Ww]orld'# both as bytes works too\n",
    "line = b' Hello spamworld'# and returns bytes groups\n",
    "re.match(patt, line).group(1)# but cannot mix str/bytes\n"
   ]
  },
  {
   "cell_type": "code",
   "execution_count": null,
   "metadata": {},
   "outputs": [],
   "source": [
    "print (re.match(patt, b' Hello spamworld').group(1))"
   ]
  },
  {
   "cell_type": "code",
   "execution_count": null,
   "metadata": {},
   "outputs": [],
   "source": [
    "line = ' Hello spamworld'\n",
    "print (re.match('[ \\t]*Hello[ \\t]+(.*)[Ww]orld', line).group(1))"
   ]
  },
  {
   "cell_type": "code",
   "execution_count": null,
   "metadata": {},
   "outputs": [],
   "source": [
    "'aaa--bbb--ccc'.split('--')\n"
   ]
  },
  {
   "cell_type": "code",
   "execution_count": null,
   "metadata": {},
   "outputs": [],
   "source": [
    "'aaa--bbb--ccc'.replace('--', '...')"
   ]
  },
  {
   "cell_type": "code",
   "execution_count": null,
   "metadata": {},
   "outputs": [],
   "source": [
    "#'aaa--bbb==ccc'.split('--', '==')"
   ]
  },
  {
   "cell_type": "code",
   "execution_count": null,
   "metadata": {},
   "outputs": [],
   "source": [
    "'aaa--bbb==ccc'.replace('--|==', '...')"
   ]
  },
  {
   "cell_type": "code",
   "execution_count": null,
   "metadata": {},
   "outputs": [],
   "source": [
    "re.split('--', 'aaa--bbb--ccc')"
   ]
  },
  {
   "cell_type": "code",
   "execution_count": null,
   "metadata": {},
   "outputs": [],
   "source": [
    "re.sub('--', '...', 'aaa--bbb--ccc')"
   ]
  },
  {
   "cell_type": "code",
   "execution_count": null,
   "metadata": {},
   "outputs": [],
   "source": [
    "re.split('--|==', 'aaa--bbb==ccc')"
   ]
  },
  {
   "cell_type": "code",
   "execution_count": null,
   "metadata": {},
   "outputs": [],
   "source": [
    "re.sub('--|==', '...', 'aaa--bbb==ccc')"
   ]
  },
  {
   "cell_type": "code",
   "execution_count": null,
   "metadata": {},
   "outputs": [],
   "source": [
    "re.split('[-=]', 'aaa-bbb=ccc')"
   ]
  },
  {
   "cell_type": "code",
   "execution_count": null,
   "metadata": {},
   "outputs": [],
   "source": [
    "re.match('(.*)/(.*)/(.*)', 'spam/ham/eggs').groups()"
   ]
  },
  {
   "cell_type": "code",
   "execution_count": null,
   "metadata": {},
   "outputs": [],
   "source": [
    "re.match('<(.*)>/<(.*)>/<(.*)>', '<spam>/<ham>/<eggs>').groups()"
   ]
  },
  {
   "cell_type": "code",
   "execution_count": null,
   "metadata": {},
   "outputs": [],
   "source": [
    "re.match('\\s*<(.*)>/?<(.*)>/?<(.*)>', ' <spam>/<ham><eggs>').groups()#/ is optional"
   ]
  },
  {
   "cell_type": "code",
   "execution_count": null,
   "metadata": {},
   "outputs": [],
   "source": [
    "re.match('Hello\\s*([a-z]*)\\s+(.*)\\s*!', 'Hellopattern world !').groups()"
   ]
  },
  {
   "cell_type": "code",
   "execution_count": null,
   "metadata": {},
   "outputs": [],
   "source": [
    "re.match('<(.*\\w)+(.+\\@)+(.*\\w)>', 'rajatanjeja101@gmail.com')#? as few times as possible"
   ]
  },
  {
   "cell_type": "code",
   "execution_count": null,
   "metadata": {},
   "outputs": [],
   "source": [
    "import re\n",
    "re.findall('<(.*?)>', '<spam>/<ham><eggs>')#? as few times as possible"
   ]
  },
  {
   "cell_type": "code",
   "execution_count": null,
   "metadata": {},
   "outputs": [],
   "source": [
    "re.findall('<(.*?)>/?<(.*?)>', '<spam>/<ham>...<eggs><cheese>')"
   ]
  },
  {
   "cell_type": "code",
   "execution_count": null,
   "metadata": {},
   "outputs": [],
   "source": [
    "re.search('<(.*?)>/?<(.*?)>', 'todays menu: <spam>/<ham>...<eggs><s>').groups()"
   ]
  },
  {
   "cell_type": "code",
   "execution_count": null,
   "metadata": {},
   "outputs": [],
   "source": [
    "re.findall('<(.*?)>.*<(.*?)>', '<spam> \\n <ham>\\n<eggs>')"
   ]
  },
  {
   "cell_type": "code",
   "execution_count": null,
   "metadata": {},
   "outputs": [],
   "source": [
    "re.findall('(?s)<(.*?)>.*<(.*?)>', '<spam>\\n<ham>\\n<eggs>')#for \"single line mode\" makes the \n",
    "#dot match all characters, including line breaks"
   ]
  },
  {
   "cell_type": "code",
   "execution_count": null,
   "metadata": {},
   "outputs": [],
   "source": [
    "re.findall('(?s)<(.*?)>.*?<(.*?)>', '<spam>\\n<ham>\\n<eggs>')"
   ]
  },
  {
   "cell_type": "code",
   "execution_count": null,
   "metadata": {},
   "outputs": [],
   "source": [
    "re.search('(?P<part1>\\w*)/(?P<part2>\\w*)', '...aaa/bbb/ccc]').groups()#\\w matches a \"word character\" \n",
    "#(alphanumeric characters plus underscore)"
   ]
  },
  {
   "cell_type": "code",
   "execution_count": null,
   "metadata": {},
   "outputs": [],
   "source": [
    "re.search('(?P<part1>\\w*)/(?P<part2>\\w*)', '...aaa/bbb/ccc]').groupdict()"
   ]
  },
  {
   "cell_type": "code",
   "execution_count": null,
   "metadata": {
    "scrolled": true
   },
   "outputs": [],
   "source": [
    "re.search('(?P<part1>\\w*)/(?P<part2>\\w*)', '...aaa/bbb/ccc]').group(2)"
   ]
  },
  {
   "cell_type": "code",
   "execution_count": null,
   "metadata": {},
   "outputs": [],
   "source": [
    "re.search('(?P<part1>\\w*)/(?P<part2>\\w*)', '...aaa/bbb/ccc]').group('part2')"
   ]
  },
  {
   "cell_type": "code",
   "execution_count": null,
   "metadata": {},
   "outputs": [],
   "source": [
    "re.findall('(?P<part1>\\w*)/(?P<part2>\\w*)', '...aaa/bbb ccc/ddd]')"
   ]
  },
  {
   "cell_type": "code",
   "execution_count": null,
   "metadata": {},
   "outputs": [],
   "source": [
    "line = 'aaa  bbb ccc'\n",
    "print (line.split())# split data with fixed delimiters\n",
    "\n",
    "\n",
    "re.findall('[^ ]+', line)# find non-delimiter runs\n"
   ]
  },
  {
   "cell_type": "code",
   "execution_count": null,
   "metadata": {},
   "outputs": [],
   "source": [
    "re.split(' +', line)# split on general delimiters"
   ]
  },
  {
   "cell_type": "code",
   "execution_count": null,
   "metadata": {},
   "outputs": [],
   "source": [
    "line = 'aaa...bbb-ccc / ddd.-/e&e*e'\n",
    "re.findall('[^ \\.\\-/]+', line) #exept dot - / findall "
   ]
  },
  {
   "cell_type": "code",
   "execution_count": null,
   "metadata": {},
   "outputs": [],
   "source": [
    "email=\"monicacatherine.s@ktr.srmuniv.ac.in\"\n",
    "#x=re.search('(\\w+[.|\\w])*@(\\w+[.])*\\w+',email)\n",
    "#print x.groups(0)\n",
    "if not re.match(\"^[^0-9!@#\\$%\\^&\\*\\.][A-Za-z0-9\\._-]+@[A-Za-z0-9\\._-]+\\.[a-zA-Z]+$\", email):\n",
    "    \n",
    "    print (\"not a valid email id\")\n",
    "else:\n",
    "    print (re.findall(\"^[^0-9!@#\\$%\\^&\\*\\.][A-Za-z0-9\\._-]+@[A-Za-z0-9\\._-]+\\.[a-zA-Z]+$\", email))\n",
    "    print (\"valid id\")"
   ]
  },
  {
   "cell_type": "code",
   "execution_count": null,
   "metadata": {},
   "outputs": [],
   "source": [
    "#(?=regex_here) is a positive lookahead\n",
    "#returning only the result: match or no match\n",
    "#called \"assertions\"\n",
    "# only assert whether a match is possible or not\n",
    "\n",
    "import re\n",
    "pwd=\"Pas#3sword\"\n",
    "if not re.match(\"(?=.*[a-z])(?=.*[A-Z])(?=.*[0-9])(?=.*[!@#\\$%\\^&\\*])(?=.{8,})\",pwd):\n",
    "    print (\"not a valid email pwd\")\n",
    "else:\n",
    "    print (\"valid pwd\")"
   ]
  },
  {
   "cell_type": "markdown",
   "metadata": {},
   "source": [
    "# YOUR TURN"
   ]
  },
  {
   "cell_type": "code",
   "execution_count": null,
   "metadata": {
    "collapsed": true
   },
   "outputs": [],
   "source": [
    "#using regex validate emailid and phone no(indian format)\n"
   ]
  }
 ],
 "metadata": {
  "anaconda-cloud": {},
  "kernelspec": {
   "display_name": "Python 3",
   "language": "python",
   "name": "python3"
  },
  "language_info": {
   "codemirror_mode": {
    "name": "ipython",
    "version": 3
   },
   "file_extension": ".py",
   "mimetype": "text/x-python",
   "name": "python",
   "nbconvert_exporter": "python",
   "pygments_lexer": "ipython3",
   "version": "3.6.1"
  }
 },
 "nbformat": 4,
 "nbformat_minor": 1
}
