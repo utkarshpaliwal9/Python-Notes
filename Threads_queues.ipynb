{
 "cells": [
  {
   "cell_type": "code",
   "execution_count": 3,
   "metadata": {
    "collapsed": false
   },
   "outputs": [
    {
     "name": "stdout",
     "output_type": "stream",
     "text": [
      "('Hello from thread', 1)\n",
      "q\n"
     ]
    }
   ],
   "source": [
    "#simple thread\n",
    "import thread as thread\n",
    "def child(tid):\n",
    "    print('Hello from thread', tid)\n",
    "def parent():\n",
    "    i = 0\n",
    "    while True:\n",
    "        i += 1\n",
    "        thread.start_new_thread(child, (i,))\n",
    "        if raw_input() == 'q':break\n",
    "parent()"
   ]
  },
  {
   "cell_type": "code",
   "execution_count": 4,
   "metadata": {
    "collapsed": false
   },
   "outputs": [
    {
     "name": "stdout",
     "output_type": "stream",
     "text": [
      "28\n",
      "\n"
     ]
    },
    {
     "data": {
      "text/plain": [
       "1500"
      ]
     },
     "execution_count": 4,
     "metadata": {},
     "output_type": "execute_result"
    }
   ],
   "source": [
    "#simple thread using class\n",
    "import time\n",
    "def action(i): # function run in threads\n",
    "    print(i)\n",
    "class Power:\n",
    "    def __init__(self, i):\n",
    "        self.i = i\n",
    "    def action(self): # bound method run in threads\n",
    "        print(self.i ** 3)\n",
    "thread.start_new_thread(action, (2,)) # simple function\n",
    "obj = Power(2)\n",
    "thread.start_new_thread(obj.action,())"
   ]
  },
  {
   "cell_type": "code",
   "execution_count": 8,
   "metadata": {
    "collapsed": false
   },
   "outputs": [
    {
     "name": "stdout",
     "output_type": "stream",
     "text": [
      "[0] => 0\n",
      "[0] => 1\n",
      "[1] => 0\n",
      "[0] => 2\n",
      "[1] => 1\n",
      "[0] => 3\n",
      "[2] => 0\n",
      "[1] => 2\n",
      "[0] => 4\n",
      "[2] => 1\n",
      "[1] => 3\n",
      "[3] => 0\n",
      "[2] => 2\n",
      "[1] => 4\n",
      "[3] => 1\n",
      "[2] => 3\n",
      "[4] => 0\n",
      "[3] => 2\n",
      "[2] => 4\n",
      "Main thread exiting.\n",
      "[4] => 1\n",
      "[3] => 3\n",
      "[4] => 2\n",
      "[3] => 4\n",
      "[4] => 3\n",
      "[4] => 4\n"
     ]
    }
   ],
   "source": [
    "#multi thread\n",
    "def counter(myId, count): # function run in threads\n",
    "    for i in range(count):\n",
    "        time.sleep(1) # simulate real work\n",
    "        print('[%s] => %s' % (myId, i))\n",
    "for i in range(5): # spawn 5 threads\n",
    "    thread.start_new_thread(counter, (i, 5)) # each thread loops 5 times\n",
    "    time.sleep(2)\n",
    "print('Main thread exiting.')"
   ]
  },
  {
   "cell_type": "code",
   "execution_count": null,
   "metadata": {
    "collapsed": true
   },
   "outputs": [],
   "source": [
    "'''the main thread shouldn’t exit while any spawned threads are\n",
    "running if it cares about their work; if it does exit, all spawned threads are immediately\n",
    "terminated.'''\n",
    "\n",
    "\n",
    "''' threadingmodule  provides a join method that\n",
    "lets us wait for spawned threads to finish explicitly, and refuses to allow a program to\n",
    "exit at all if any of its normal threads are still running'''\n"
   ]
  },
  {
   "cell_type": "code",
   "execution_count": 25,
   "metadata": {
    "collapsed": false
   },
   "outputs": [
    {
     "name": "stdout",
     "output_type": "stream",
     "text": [
      "Worker\n",
      "Worker\n",
      "Worker\n",
      "Worker\n",
      "Worker\n"
     ]
    }
   ],
   "source": [
    "#simple threading without arg\n",
    "import threading\n",
    "\n",
    "def worker():\n",
    "    \"\"\"thread worker function\"\"\"\n",
    "    print('Worker')\n",
    "\n",
    "     \n",
    "for i in range(5):\n",
    "    t = threading.Thread(target=worker)\n",
    "    t.start()"
   ]
  },
  {
   "cell_type": "code",
   "execution_count": 26,
   "metadata": {
    "collapsed": false
   },
   "outputs": [
    {
     "name": "stdout",
     "output_type": "stream",
     "text": [
      "Worker: 0\n",
      "Worker: 1\n",
      "Worker: 2\n",
      "Worker: 3\n",
      "Worker: 4\n"
     ]
    }
   ],
   "source": [
    "#simple threading with arg\n",
    "import threading\n",
    "\n",
    "def worker(num):\n",
    "    \"\"\"thread worker function\"\"\"\n",
    "    print('Worker: %s' % num)\n",
    "    return\n",
    "\n",
    "\n",
    "for i in range(5):\n",
    "    t = threading.Thread(target=worker, args=(i,))\n",
    "    t.start()"
   ]
  },
  {
   "cell_type": "code",
   "execution_count": 27,
   "metadata": {
    "collapsed": false
   },
   "outputs": [
    {
     "name": "stdout",
     "output_type": "stream",
     "text": [
      "('Thread-35', 'Starting')\n",
      "('Thread-34', 'Starting')\n",
      "('worker', 'Starting')\n",
      "('Thread-34', 'Exiting')('Thread-35', 'Exiting')('worker', 'Exiting')\n",
      "\n",
      "\n"
     ]
    }
   ],
   "source": [
    "#syn with sleep,defining names for thread\n",
    "import threading\n",
    "import time\n",
    "\n",
    "def worker():\n",
    "    print(threading.currentThread().getName(), 'Starting')\n",
    "    time.sleep(2)\n",
    "    print (threading.currentThread().getName(), 'Exiting')\n",
    "\n",
    "def my_service():\n",
    "    print (threading.currentThread().getName(), 'Starting')\n",
    "    time.sleep(3)\n",
    "    print (threading.currentThread().getName(), 'Exiting')\n",
    "\n",
    "t = threading.Thread(target=worker)\n",
    "w = threading.Thread(name='worker', target=worker)\n",
    "w2 = threading.Thread(target=worker) # use default name\n",
    "\n",
    "w2.start()\n",
    "t.start()\n",
    "w.start()"
   ]
  },
  {
   "cell_type": "code",
   "execution_count": 29,
   "metadata": {
    "collapsed": false
   },
   "outputs": [
    {
     "name": "stdout",
     "output_type": "stream",
     "text": [
      "Starting in fun1\n",
      "Starting in fun2\n",
      " ('t.isAlive()', True)\n",
      "Exiting in fun1\n",
      "('t.isAlive()', True)\n",
      "('d.isAlive()', False)\n",
      "Exiting in fun2\n",
      "('d.isAlive()', False)\n",
      "('t.isAlive()', False)\n",
      "main thread\n"
     ]
    }
   ],
   "source": [
    "#use of join and isalive\n",
    "import threading\n",
    "import time\n",
    "\n",
    "\n",
    "def fun1():\n",
    "    print ('Starting in fun1')\n",
    "    time.sleep(2)\n",
    "    print ('Exiting in fun1')\n",
    "\n",
    "d = threading.Thread(name='fun1', target=fun1)\n",
    "\n",
    "\n",
    "def fun2():\n",
    "    print ('Starting in fun2')\n",
    "    time.sleep(9)\n",
    "    print ('Exiting in fun2')\n",
    "\n",
    "t = threading.Thread(name='fun2', target=fun2)\n",
    "\n",
    "d.start()\n",
    "t.start()\n",
    "print('t.isAlive()', t.isAlive())\n",
    "d.join()\n",
    "print ('t.isAlive()', t.isAlive())\n",
    "print ('d.isAlive()', d.isAlive())\n",
    "t.join()\n",
    "print ('d.isAlive()', d.isAlive())\n",
    "print ('t.isAlive()', t.isAlive())\n",
    "print (\"main thread\")"
   ]
  },
  {
   "cell_type": "code",
   "execution_count": 20,
   "metadata": {
    "collapsed": false
   },
   "outputs": [
    {
     "name": "stdout",
     "output_type": "stream",
     "text": [
      "('in counter1', 1)('in counter2', 7)\n",
      "\n",
      "('in counter2', 14)('in counter1', 16)\n",
      "\n",
      "('in counter2', 24)('in counter1', 27)\n",
      "\n",
      "('in counter2', 36)('in counter1', 40)\n",
      "\n",
      "('in counter2', 50)('in counter1', 55)\n",
      "\n",
      "('sum of 10 no ', 55)\n",
      "Main thread exiting.\n"
     ]
    }
   ],
   "source": [
    "#multi threads without lock\n",
    "import thread as thread, time\n",
    "l=[1,2,3,4,5,6,7,8,9,10]\n",
    "s1=0\n",
    "def counter1(list1): # function run in threads\n",
    "    global s1\n",
    "    for i in list1:\n",
    "        s1+=i\n",
    "        print (\"in counter1\",s1)\n",
    "def counter2(list2):\n",
    "    # function run in threads\n",
    "    global s1\n",
    "    for i in list2:\n",
    "        s1+=i\n",
    "        print (\"in counter2\",s1)\n",
    "\n",
    "\n",
    "thread.start_new_thread(counter1, (l[:5],))\n",
    "\n",
    "thread.start_new_thread(counter2, (l[5:],))# each thread loops 5 times\n",
    "time.sleep(1)\n",
    "print (\"sum of 10 no \",s1)\n",
    "print('Main thread exiting.') "
   ]
  },
  {
   "cell_type": "code",
   "execution_count": 21,
   "metadata": {
    "collapsed": false
   },
   "outputs": [
    {
     "name": "stdout",
     "output_type": "stream",
     "text": [
      "('s1 in c1', 1)\n",
      "('s1 in c1', 3)\n",
      "('s1 in c1', 6)\n",
      "('s1 in c1', 10)\n",
      "('s1 in c1', 15)\n",
      "('s1 in c2', 21)\n",
      "('s1 in c2', 28)\n",
      "('s1 in c2', 36)\n",
      "('s1 in c2', 45)\n",
      "('s1 in c2', 55)\n",
      "('sum of 10 no ', 55)\n",
      "Main thread exiting.\n"
     ]
    }
   ],
   "source": [
    "#Threads with lock\n",
    "import thread as thread, time\n",
    "l=[1,2,3,4,5,6,7,8,9,10]\n",
    "s1=0\n",
    "def counter1(list1): # function run in threads\n",
    "    mutex.acquire()\n",
    "    global s1\n",
    "    for i in list1:\n",
    "        s1+=i\n",
    "        print (\"s1 in c1\",s1)\n",
    "    mutex.release()\n",
    "def counter2(list2):\n",
    "    # function run in threads\n",
    "    mutex.acquire()\n",
    "    global s1\n",
    "    for i in list2:\n",
    "        s1+=i\n",
    "        print (\"s1 in c2\",s1)\n",
    "    mutex.release()\n",
    "    \n",
    "\n",
    "mutex = thread.allocate_lock() # make a global lock object\n",
    "thread.start_new_thread(counter1, (l[:5],))\n",
    "\n",
    "thread.start_new_thread(counter2, (l[5:],))# each thread loops 5 times\n",
    "time.sleep(6)\n",
    "print (\"sum of 10 no \",s1)\n",
    "print('Main thread exiting.') # don't exit too early"
   ]
  },
  {
   "cell_type": "code",
   "execution_count": null,
   "metadata": {
    "collapsed": true
   },
   "outputs": [],
   "source": [
    "# using joints\n",
    "import threading \n",
    "import time\n",
    "class mythread(threading.Thread): \n",
    "    def __init__(self, number): \n",
    "        threading.Thread.__init__(self) \n",
    "        self.Number = number\n",
    "    def run(self): \n",
    "        print (\"thread %d sleeps for 5 seconds\" % self.Number)\n",
    "        time.sleep(5)\n",
    "        print (\"thread %d woke up\" % self.Number)\n",
    "threads = [] \n",
    "while True: \n",
    "    inp = int(input(\"enter 0 to exit\")) \n",
    "    if inp == 0: \n",
    "        break \n",
    " \n",
    "    thread = mythread(inp) \n",
    "    threads += [thread] \n",
    "    thread.start() \n",
    "for x in threads: \n",
    "    x.join()\n",
    "print (\"main exits\")"
   ]
  },
  {
   "cell_type": "markdown",
   "metadata": {},
   "source": [
    "# queue"
   ]
  },
  {
   "cell_type": "code",
   "execution_count": 32,
   "metadata": {
    "collapsed": false
   },
   "outputs": [
    {
     "name": "stdout",
     "output_type": "stream",
     "text": [
      "5\n",
      "9\n",
      "1\n",
      "7\n"
     ]
    }
   ],
   "source": [
    "import Queue \n",
    "  \n",
    "\n",
    "# is Queue of a maximum  \n",
    "# capacity of 20 \n",
    "L = Queue.Queue(maxsize=20) \n",
    "  \n",
    "# Data is inserted into Queue \n",
    "# using put() Data is inserted \n",
    "# at the end \n",
    "L.put(5) \n",
    "L.put(9) \n",
    "L.put(1) \n",
    "L.put(7) \n",
    "  \n",
    "# get() takes data out from \n",
    "# the Queue from the head  \n",
    "# of the Queue \n",
    "print(L.get()) \n",
    "print(L.get()) \n",
    "print(L.get()) \n",
    "print(L.get()) \n"
   ]
  },
  {
   "cell_type": "code",
   "execution_count": null,
   "metadata": {
    "collapsed": true
   },
   "outputs": [],
   "source": [
    "import Queue \n",
    "  \n",
    "L = Queue.Queue(maxsize=6) \n",
    "  \n",
    "# qsize() give the maxsize \n",
    "# of the Queue \n",
    "print(L.qsize()) \n",
    "  \n",
    "L.put(5) \n",
    "L.put(9) \n",
    "L.put(1) \n",
    "L.put(7) \n",
    "  \n",
    "# Return Boolean for Full \n",
    "# Queue \n",
    "print(\"Full: \", L.full()) \n",
    "  \n",
    "L.put(9) \n",
    "L.put(10) \n",
    "print(\"Full: \", L.full()) \n",
    "  \n",
    "print(L.get()) \n",
    "print(L.get()) \n",
    "print(L.get()) \n",
    "  \n",
    "# Return Boolean for Empty \n",
    "# Queue \n",
    "print(\"Empty: \", L.empty()) \n",
    "  \n",
    "print(L.get()) \n",
    "print(L.get()) \n",
    "print(L.get()) \n",
    "  \n",
    "print(\"Empty: \", L.empty()) \n",
    "print(\"Full: \", L.full()) \n",
    "  \n",
    "# This would result into Infinite \n",
    "# Loop as the Queue is empty. \n",
    "# print(L.get()) \n",
    "\n"
   ]
  },
  {
   "cell_type": "code",
   "execution_count": 33,
   "metadata": {
    "collapsed": false
   },
   "outputs": [
    {
     "name": "stdout",
     "output_type": "stream",
     "text": [
      "0\n",
      "('Full: ', True)\n",
      "('Size: ', 6)\n",
      "10\n",
      "9\n",
      "7\n",
      "1\n",
      "9\n",
      "('Empty: ', False)\n"
     ]
    }
   ],
   "source": [
    "#LIFO queue\n",
    "import Queue \n",
    "  \n",
    "L = Queue.LifoQueue(maxsize=6) \n",
    "  \n",
    "# qsize() give the maxsize of \n",
    "# the Queue \n",
    "print(L.qsize()) \n",
    "  \n",
    "# Data Inserted as 5->9->1->7,  \n",
    "# same as Queue \n",
    "L.put(5) \n",
    "L.put(9) \n",
    "L.put(1) \n",
    "L.put(7) \n",
    "L.put(9) \n",
    "L.put(10) \n",
    "print(\"Full: \", L.full()) \n",
    "print(\"Size: \", L.qsize()) \n",
    "  \n",
    "# Data will be accessed in the \n",
    "# reverse order Reverse of that \n",
    "# of Queue \n",
    "print(L.get()) \n",
    "print(L.get()) \n",
    "print(L.get()) \n",
    "print(L.get()) \n",
    "print(L.get()) \n",
    "print(\"Empty: \", L.empty()) \n",
    "\n"
   ]
  },
  {
   "cell_type": "code",
   "execution_count": 45,
   "metadata": {
    "collapsed": false
   },
   "outputs": [
    {
     "name": "stdout",
     "output_type": "stream",
     "text": [
      "Starting Thread-1\n",
      "Starting Thread-2Thread-1 processing One\n",
      "\n",
      "Exiting Thread-1\n",
      " Thread-2 processing Two\n",
      "\n",
      "Exiting Thread-2Starting Thread-3\n",
      "\n",
      "Thread-3 processing Three\n",
      "Exiting Thread-3\n"
     ]
    }
   ],
   "source": [
    "import Queue\n",
    "import threading\n",
    "import time\n",
    "\n",
    "class myThread (threading.Thread):\n",
    "   def __init__(self, threadID, name, q):\n",
    "      threading.Thread.__init__(self)\n",
    "      self.threadID = threadID\n",
    "      self.name = name\n",
    "      self.q = q\n",
    "   def run(self):\n",
    "      print (\"Starting \" + self.name)\n",
    "      #queueLock.acquire()\n",
    "      if not workQueue.empty():\n",
    "        data = self.q.get()\n",
    "        print (\"%s processing %s\" % (self.name, data))\n",
    "      #queueLock.release()\n",
    "      print (\"Exiting \" + self.name)\n",
    "\n",
    "        \n",
    "\n",
    "threadList = [\"Thread-1\", \"Thread-2\", \"Thread-3\"]\n",
    "nameList = [\"One\", \"Two\", \"Three\"]\n",
    "#queueLock = threading.Lock()\n",
    "\n",
    "#1 Creating a queue\n",
    "workQueue = Queue.Queue(maxsize=10)\n",
    "threads = []\n",
    "threadID = 1\n",
    "\n",
    "#2 Fill the queue\n",
    "for word in nameList:\n",
    "   workQueue.put(word)\n",
    "\n",
    "\n",
    "#3 Create new threads to read from queue\n",
    "for tName in threadList:\n",
    "   thread = myThread(threadID, tName, workQueue)\n",
    "   thread.start()\n",
    "   threads.append(thread)\n",
    "   threadID += 1\n",
    "\n",
    "\n",
    "    "
   ]
  },
  {
   "cell_type": "code",
   "execution_count": null,
   "metadata": {
    "collapsed": true
   },
   "outputs": [],
   "source": []
  }
 ],
 "metadata": {
  "anaconda-cloud": {},
  "kernelspec": {
   "display_name": "Python [conda env:Anaconda2]",
   "language": "python",
   "name": "conda-env-Anaconda2-py"
  },
  "language_info": {
   "codemirror_mode": {
    "name": "ipython",
    "version": 2
   },
   "file_extension": ".py",
   "mimetype": "text/x-python",
   "name": "python",
   "nbconvert_exporter": "python",
   "pygments_lexer": "ipython2",
   "version": "2.7.12"
  }
 },
 "nbformat": 4,
 "nbformat_minor": 1
}
