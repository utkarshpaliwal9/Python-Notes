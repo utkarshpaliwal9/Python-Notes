{
 "cells": [
  {
   "cell_type": "code",
   "execution_count": 37,
   "metadata": {},
   "outputs": [
    {
     "name": "stdout",
     "output_type": "stream",
     "text": [
      "Hello from thread 1\n",
      "ywteq\n",
      "Hello from thread 2\n",
      "q\n"
     ]
    }
   ],
   "source": [
    "#simple thread\n",
    "import _thread as thread\n",
    "def child(tid):\n",
    "    print('Hello from thread', tid)\n",
    "def parent():\n",
    "    i = 0\n",
    "    while True:\n",
    "        i += 1\n",
    "        thread.start_new_thread(child, (i,))\n",
    "        if input() == 'q':break\n",
    "parent()"
   ]
  },
  {
   "cell_type": "code",
   "execution_count": 38,
   "metadata": {},
   "outputs": [
    {
     "name": "stdout",
     "output_type": "stream",
     "text": [
      "28"
     ]
    },
    {
     "data": {
      "text/plain": [
       "13940"
      ]
     },
     "execution_count": 38,
     "metadata": {},
     "output_type": "execute_result"
    },
    {
     "name": "stdout",
     "output_type": "stream",
     "text": [
      "\n",
      "\n"
     ]
    }
   ],
   "source": [
    "#simple thread using class\n",
    "import time\n",
    "def action(i): # function run in threads\n",
    "    print(i)\n",
    "class Power:\n",
    "    def __init__(self, i):\n",
    "        self.i = i\n",
    "    def action(self): # bound method run in threads\n",
    "        print(self.i ** 3)\n",
    "thread.start_new_thread(action, (2,)) # simple function\n",
    "obj = Power(2)\n",
    "thread.start_new_thread(obj.action,())"
   ]
  },
  {
   "cell_type": "code",
   "execution_count": 39,
   "metadata": {},
   "outputs": [
    {
     "name": "stdout",
     "output_type": "stream",
     "text": [
      "[0] => 0\n",
      "[0] => 1\n",
      "[0] => 2\n",
      "[0] => 3\n",
      "[0] => 4\n",
      "[1] => 0\n",
      "[1] => 1\n",
      "[1] => 2\n",
      "[1] => 3\n",
      "[1] => 4\n",
      "[2] => 0\n",
      "[2] => 1\n",
      "[2] => 2\n",
      "[2] => 3\n",
      "[2] => 4\n",
      "[3] => 0\n",
      "[3] => 1\n",
      "[3] => 2\n",
      "[3] => 3\n",
      "[3] => 4\n",
      "[4] => 0\n",
      "[4] => 1\n",
      "[4] => 2\n",
      "[4] => 3\n",
      "[4] => 4\n",
      "Main thread exiting.\n"
     ]
    }
   ],
   "source": [
    "#multi thread\n",
    "def counter(myId, count): # function run in threads\n",
    "    for i in range(count):\n",
    "        time.sleep(1) # simulate real work\n",
    "        print('[%s] => %s' % (myId, i))\n",
    "for i in range(5): # spawn 5 threads\n",
    "    thread.start_new_thread(counter, (i, 5)) # each thread loops 5 times\n",
    "    time.sleep(6)\n",
    "print('Main thread exiting.')"
   ]
  },
  {
   "cell_type": "code",
   "execution_count": null,
   "metadata": {
    "collapsed": true
   },
   "outputs": [],
   "source": [
    "'''the main thread shouldn’t exit while any spawned threads are\n",
    "running if it cares about their work; if it does exit, all spawned threads are immediately\n",
    "terminated.'''\n",
    "\n",
    "\n",
    "''' threadingmodule  provides a join method that\n",
    "lets us wait for spawned threads to finish explicitly, and refuses to allow a program to\n",
    "exit at all if any of its normal threads are still running'''\n"
   ]
  },
  {
   "cell_type": "code",
   "execution_count": null,
   "metadata": {
    "collapsed": true
   },
   "outputs": [],
   "source": [
    "#skip\n",
    "#Waiting for spawned thread exits\n",
    "\"\"\"\n",
    "uses mutexes to know when threads are done in parent/main thread,\n",
    "instead of time.sleep; lock stdout to avoid comingled prints;\n",
    "\"\"\"\n",
    "import thread\n",
    "stdoutmutex = thread.allocate_lock()\n",
    "exitmutexes = [thread.allocate_lock() for i in range(10)]\n",
    "def counter(myId, count):\n",
    "    for i in range(count):\n",
    "        stdoutmutex.acquire()\n",
    "        print('[%s] => %s' % (myId, i))\n",
    "        stdoutmutex.release()\n",
    "    exitmutexes[myId].acquire() # signal main thread\n",
    "for i in range(4):\n",
    "    thread.start_new_thread(counter, (i, 5))\n",
    "for mutex in exitmutexes:\n",
    "    while not mutex.locked(): \n",
    "        print \"exit\"\n",
    "print('Main thread exiting.')"
   ]
  },
  {
   "cell_type": "code",
   "execution_count": 40,
   "metadata": {},
   "outputs": [
    {
     "name": "stdout",
     "output_type": "stream",
     "text": [
      "Worker\n",
      "Worker\n",
      "Worker\n",
      "Worker\n",
      "Worker\n"
     ]
    }
   ],
   "source": [
    "#simple threading without arg\n",
    "import threading\n",
    "\n",
    "def worker():\n",
    "    \"\"\"thread worker function\"\"\"\n",
    "    print('Worker')\n",
    "\n",
    "     \n",
    "for i in range(5):\n",
    "    t = threading.Thread(target=worker)\n",
    "    t.start()"
   ]
  },
  {
   "cell_type": "code",
   "execution_count": 41,
   "metadata": {},
   "outputs": [
    {
     "name": "stdout",
     "output_type": "stream",
     "text": [
      "Worker: 0\n",
      "Worker: 1\n",
      "Worker: 2\n",
      "Worker: 3\n",
      "Worker: 4\n"
     ]
    }
   ],
   "source": [
    "#simple threading with arg\n",
    "import threading\n",
    "\n",
    "def worker(num):\n",
    "    \"\"\"thread worker function\"\"\"\n",
    "    print('Worker: %s' % num)\n",
    "    return\n",
    "\n",
    "\n",
    "for i in range(5):\n",
    "    t = threading.Thread(target=worker, args=(i,))\n",
    "    t.start()"
   ]
  },
  {
   "cell_type": "code",
   "execution_count": 3,
   "metadata": {},
   "outputs": [
    {
     "name": "stdout",
     "output_type": "stream",
     "text": [
      "Thread-10 Starting\n",
      "Thread-9worker  StartingStarting\n",
      "\n",
      "Thread-10 Exiting\n",
      "worker Thread-9Exiting \n",
      "Exiting\n"
     ]
    }
   ],
   "source": [
    "#syn with sleep,defining names for thread\n",
    "import threading\n",
    "import time\n",
    "\n",
    "def worker():\n",
    "    print(threading.currentThread().getName(), 'Starting')\n",
    "    time.sleep(2)\n",
    "    print (threading.currentThread().getName(), 'Exiting')\n",
    "\n",
    "def my_service():\n",
    "    print (threading.currentThread().getName(), 'Starting')\n",
    "    time.sleep(3)\n",
    "    print (threading.currentThread().getName(), 'Exiting')\n",
    "\n",
    "t = threading.Thread(target=worker)\n",
    "w = threading.Thread(name='worker', target=worker)\n",
    "w2 = threading.Thread(target=worker) # use default name\n",
    "\n",
    "w2.start()\n",
    "t.start()\n",
    "w.start()"
   ]
  },
  {
   "cell_type": "code",
   "execution_count": 43,
   "metadata": {},
   "outputs": [
    {
     "name": "stdout",
     "output_type": "stream",
     "text": [
      "Starting in fun1\n",
      "Starting in fun2t.isAlive() \n",
      "True\n",
      "Exiting in fun1\n",
      "t.isAlive() True\n",
      "d.isAlive() False\n",
      "Exiting in fun2d.isAlive()\n",
      " False\n",
      "t.isAlive() False\n",
      "main thread\n"
     ]
    }
   ],
   "source": [
    "#use of join and isalive\n",
    "import threading\n",
    "import time\n",
    "\n",
    "\n",
    "def fun1():\n",
    "    print ('Starting in fun1')\n",
    "    time.sleep(2)\n",
    "    print ('Exiting in fun1')\n",
    "\n",
    "d = threading.Thread(name='fun1', target=fun1)\n",
    "\n",
    "\n",
    "def fun2():\n",
    "    print ('Starting in fun2')\n",
    "    time.sleep(9)\n",
    "    print ('Exiting in fun2')\n",
    "\n",
    "t = threading.Thread(name='fun2', target=fun2)\n",
    "\n",
    "d.start()\n",
    "t.start()\n",
    "print('t.isAlive()', t.isAlive())\n",
    "d.join()\n",
    "print ('t.isAlive()', t.isAlive())\n",
    "print ('d.isAlive()', d.isAlive())\n",
    "t.join()\n",
    "print ('d.isAlive()', d.isAlive())\n",
    "print ('t.isAlive()', t.isAlive())\n",
    "print (\"main thread\")"
   ]
  },
  {
   "cell_type": "code",
   "execution_count": 45,
   "metadata": {},
   "outputs": [
    {
     "name": "stdout",
     "output_type": "stream",
     "text": [
      "in counter2in counter1  4055\n",
      "\n",
      "sum of 10 no  55\n",
      "Main thread exiting.\n"
     ]
    }
   ],
   "source": [
    "#multi threads without lock\n",
    "import _thread as thread, time\n",
    "l=[1,2,3,4,5,6,7,8,9,10]\n",
    "s1=0\n",
    "def counter1(list1): # function run in threads\n",
    "    global s1\n",
    "    for i in list1:\n",
    "        s1+=i\n",
    "    print (\"in counter1\",s1)\n",
    "def counter2(list2):\n",
    "    # function run in threads\n",
    "    global s1\n",
    "    for i in list2:\n",
    "        s1+=i\n",
    "    print (\"in counter2\",s1)\n",
    "\n",
    "\n",
    "thread.start_new_thread(counter1, (l[:5],))\n",
    "\n",
    "thread.start_new_thread(counter2, (l[5:],))# each thread loops 5 times\n",
    "time.sleep(6)\n",
    "print (\"sum of 10 no \",s1)\n",
    "print('Main thread exiting.') "
   ]
  },
  {
   "cell_type": "code",
   "execution_count": 46,
   "metadata": {},
   "outputs": [
    {
     "name": "stdout",
     "output_type": "stream",
     "text": [
      "s1 in c1s1 in c2 55 \n",
      "15\n",
      "sum of 10 no  55\n",
      "Main thread exiting.\n"
     ]
    }
   ],
   "source": [
    "#Threads with lock\n",
    "import _thread as thread, time\n",
    "l=[1,2,3,4,5,6,7,8,9,10]\n",
    "s1=0\n",
    "def counter1(list1): # function run in threads\n",
    "    mutex.acquire()\n",
    "    global s1\n",
    "    for i in list1:\n",
    "        s1+=i\n",
    "    print (\"s1 in c1\",s1)\n",
    "    mutex.release()\n",
    "def counter2(list2):\n",
    "    # function run in threads\n",
    "    mutex.acquire()\n",
    "    global s1\n",
    "    for i in list2:\n",
    "        s1+=i\n",
    "    print (\"s1 in c2\",s1)\n",
    "    mutex.release()\n",
    "    \n",
    "\n",
    "mutex = thread.allocate_lock() # make a global lock object\n",
    "thread.start_new_thread(counter1, (l[:5],))\n",
    "\n",
    "thread.start_new_thread(counter2, (l[5:],))# each thread loops 5 times\n",
    "time.sleep(6)\n",
    "print (\"sum of 10 no \",s1)\n",
    "print('Main thread exiting.') # don't exit too early"
   ]
  },
  {
   "cell_type": "code",
   "execution_count": null,
   "metadata": {
    "collapsed": true
   },
   "outputs": [],
   "source": [
    "import time\n",
    "from threading import Thread\n",
    "\n",
    "def sleeper(i):\n",
    "    print(\"thread %d sleeps for 5 seconds\" % i)\n",
    "    time.sleep(5)\n",
    "    print (\"thread %d woke up\" % i)\n",
    "\n",
    "for i in range(10):\n",
    "    t = Thread(target=sleeper, args=(i,))\n",
    "    t.start()"
   ]
  },
  {
   "cell_type": "code",
   "execution_count": null,
   "metadata": {
    "collapsed": true
   },
   "outputs": [],
   "source": [
    "#using joints\n",
    "import threading \n",
    "import time\n",
    "class mythread(threading.Thread): \n",
    "    def __init__(self, number): \n",
    "        threading.Thread.__init__(self) \n",
    "        self.Number = number\n",
    "    def run(self): \n",
    "        print (\"thread %d sleeps for 5 seconds\" % self.Number)\n",
    "        time.sleep(5)\n",
    "        print (\"thread %d woke up\" % self.Number)\n",
    "threads = [] \n",
    "while True: \n",
    "    inp = int(input(\"enter 0 to exit\")) \n",
    "    if inp == 0: \n",
    "        break \n",
    " \n",
    "    thread = mythread(inp) \n",
    "    threads += [thread] \n",
    "    thread.start() \n",
    "for x in threads: \n",
    "    x.join()\n",
    "print (\"main exits\")"
   ]
  },
  {
   "cell_type": "code",
   "execution_count": null,
   "metadata": {
    "collapsed": true
   },
   "outputs": [],
   "source": [
    "#one more sample for join\n",
    "import threading \n",
    "import time\n",
    "class mythread(threading.Thread): \n",
    "    def __init__(self, number): \n",
    "        threading.Thread.__init__(self) \n",
    "        self.Number = number\n",
    "    def run(self): \n",
    "        print (\"thread %d sleeps for 5 seconds\" % self.Number)\n",
    "        time.sleep(5)\n",
    "        print (\"thread %d woke up\" % self.Number)\n",
    "threads = [] \n",
    "inp=0\n",
    "while True: \n",
    "    if inp == 10: \n",
    "        break \n",
    "    inp+=1 \n",
    "    thread = mythread(inp) \n",
    "    threads += [thread] \n",
    "    thread.start() \n",
    "for x in threads: \n",
    "    x.join()\n",
    "print (\"main exits\")"
   ]
  },
  {
   "cell_type": "code",
   "execution_count": null,
   "metadata": {
    "collapsed": true
   },
   "outputs": [],
   "source": [
    "#threadingwith locks and joints\n",
    "import threading \n",
    "import time\n",
    "class mythread(threading.Thread): \n",
    "    lock = threading.Lock()\n",
    "    bal=500\n",
    "    def __init__(self, number): \n",
    "        threading.Thread.__init__(self) \n",
    "        self.Number = number\n",
    "    def deposit(self): \n",
    "        mythread.lock.acquire()\n",
    "        mythread.bal+=200\n",
    "        print \"balance after deposit\",mythread.bal\n",
    "        mythread.lock.release()\n",
    "        \n",
    "    def withdraw(self): \n",
    "        mythread.lock.acquire()\n",
    "        mythread.bal-=100\n",
    "        print \"balance after withdraw\",mythread.bal\n",
    "        mythread.lock.release()\n",
    "    def run(self):\n",
    "        mythread.deposit(self)\n",
    "        time.sleep(1)\n",
    "        mythread.withdraw(self)\n",
    "        \n",
    "threads = [] \n",
    "while True: \n",
    "    inp = long(raw_input(\"enter 0 to exit\")) \n",
    "    if inp == 0: \n",
    "        break \n",
    " \n",
    "    thread = mythread(inp) \n",
    "    threads += [thread] \n",
    "    thread.start() \n",
    "for x in threads: \n",
    "    x.join()\n",
    "print \"main exits\""
   ]
  },
  {
   "cell_type": "code",
   "execution_count": 47,
   "metadata": {
    "collapsed": true
   },
   "outputs": [],
   "source": [
    "import os\n",
    "reply=os.popen(\"ping 127.0.0.1\")"
   ]
  },
  {
   "cell_type": "code",
   "execution_count": 48,
   "metadata": {
    "collapsed": true
   },
   "outputs": [],
   "source": [
    "lines=reply.readlines()"
   ]
  },
  {
   "cell_type": "code",
   "execution_count": 49,
   "metadata": {},
   "outputs": [
    {
     "name": "stdout",
     "output_type": "stream",
     "text": [
      "\n",
      "\n",
      "Pinging 127.0.0.1 with 32 bytes of data:\n",
      "\n",
      "Reply from 127.0.0.1: bytes=32 time<1ms TTL=128\n",
      "\n",
      "Reply from 127.0.0.1: bytes=32 time<1ms TTL=128\n",
      "\n",
      "Reply from 127.0.0.1: bytes=32 time<1ms TTL=128\n",
      "\n",
      "Reply from 127.0.0.1: bytes=32 time<1ms TTL=128\n",
      "\n",
      "\n",
      "\n",
      "Ping statistics for 127.0.0.1:\n",
      "\n",
      "    Packets: Sent = 4, Received = 4, Lost = 0 (0% loss),\n",
      "\n",
      "Approximate round trip times in milli-seconds:\n",
      "\n",
      "    Minimum = 0ms, Maximum = 0ms, Average = 0ms\n",
      "\n"
     ]
    }
   ],
   "source": [
    "for i in lines:\n",
    "    print(i)"
   ]
  },
  {
   "cell_type": "code",
   "execution_count": 50,
   "metadata": {},
   "outputs": [
    {
     "name": "stdout",
     "output_type": "stream",
     "text": [
      "[]\n",
      "[]\n",
      "[]\n",
      "[]\n",
      "[]\n",
      "[]\n",
      "[]\n",
      "[]\n",
      "['4']\n",
      "[]\n",
      "[]\n"
     ]
    }
   ],
   "source": [
    "import re\n",
    "for l in lines:\n",
    "    print (re.findall('Received = (\\d)',l))"
   ]
  },
  {
   "cell_type": "code",
   "execution_count": null,
   "metadata": {
    "collapsed": true
   },
   "outputs": [],
   "source": [
    "print (lines)"
   ]
  },
  {
   "cell_type": "code",
   "execution_count": null,
   "metadata": {
    "collapsed": true
   },
   "outputs": [],
   "source": []
  }
 ],
 "metadata": {
  "anaconda-cloud": {},
  "kernelspec": {
   "display_name": "Python 3",
   "language": "python",
   "name": "python3"
  },
  "language_info": {
   "codemirror_mode": {
    "name": "ipython",
    "version": 3
   },
   "file_extension": ".py",
   "mimetype": "text/x-python",
   "name": "python",
   "nbconvert_exporter": "python",
   "pygments_lexer": "ipython3",
   "version": "3.6.1"
  }
 },
 "nbformat": 4,
 "nbformat_minor": 1
}
